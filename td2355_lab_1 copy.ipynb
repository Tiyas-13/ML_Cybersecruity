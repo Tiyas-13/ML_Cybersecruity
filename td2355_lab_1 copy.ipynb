{
  "nbformat": 4,
  "nbformat_minor": 0,
  "metadata": {
    "colab": {
      "provenance": []
    },
    "kernelspec": {
      "name": "python3",
      "display_name": "Python 3"
    },
    "language_info": {
      "name": "python"
    }
  },
  "cells": [
    {
      "cell_type": "markdown",
      "source": [
        "## Downloading Dataset and Installing Requirements"
      ],
      "metadata": {
        "id": "aDIyUVl0u4s1"
      }
    },
    {
      "cell_type": "code",
      "execution_count": 1,
      "metadata": {
        "colab": {
          "base_uri": "https://localhost:8080/"
        },
        "id": "iZGZ15Q9Q27P",
        "outputId": "1c4efbcb-3049-48b6-d817-b1fd5254dd97"
      },
      "outputs": [
        {
          "output_type": "stream",
          "name": "stdout",
          "text": [
            "--2023-10-31 20:49:51--  http://www.aueb.gr/users/ion/data/lingspam_public.tar.gz\n",
            "Resolving www.aueb.gr (www.aueb.gr)... 195.251.255.156\n",
            "Connecting to www.aueb.gr (www.aueb.gr)|195.251.255.156|:80... connected.\n",
            "HTTP request sent, awaiting response... 301 Moved Permanently\n",
            "Location: http://pages.aueb.gr/users/ion/data/lingspam_public.tar.gz [following]\n",
            "--2023-10-31 20:49:52--  http://pages.aueb.gr/users/ion/data/lingspam_public.tar.gz\n",
            "Resolving pages.aueb.gr (pages.aueb.gr)... 195.251.255.230\n",
            "Connecting to pages.aueb.gr (pages.aueb.gr)|195.251.255.230|:80... connected.\n",
            "HTTP request sent, awaiting response... 301 Moved Permanently\n",
            "Location: https://www2.aueb.gr/users/ion/data/lingspam_public.tar.gz [following]\n",
            "--2023-10-31 20:49:53--  https://www2.aueb.gr/users/ion/data/lingspam_public.tar.gz\n",
            "Resolving www2.aueb.gr (www2.aueb.gr)... 195.251.255.230\n",
            "Connecting to www2.aueb.gr (www2.aueb.gr)|195.251.255.230|:443... connected.\n",
            "WARNING: cannot verify www2.aueb.gr's certificate, issued by ‘CN=GEANT OV RSA CA 4,O=GEANT Vereniging,C=NL’:\n",
            "  Unable to locally verify the issuer's authority.\n",
            "HTTP request sent, awaiting response... 200 OK\n",
            "Length: 11564714 (11M) [application/x-gzip]\n",
            "Saving to: ‘lingspam_public.tar.gz’\n",
            "\n",
            "lingspam_public.tar 100%[===================>]  11.03M  6.00MB/s    in 1.8s    \n",
            "\n",
            "2023-10-31 20:49:56 (6.00 MB/s) - ‘lingspam_public.tar.gz’ saved [11564714/11564714]\n",
            "\n"
          ]
        }
      ],
      "source": [
        "!wget http://www.aueb.gr/users/ion/data/lingspam_public.tar.gz --no-check-certificate"
      ]
    },
    {
      "cell_type": "code",
      "source": [
        "!tar -xzvf lingspam_public.tar.gz"
      ],
      "metadata": {
        "id": "eLlmAYPYRqTs"
      },
      "execution_count": null,
      "outputs": []
    },
    {
      "cell_type": "code",
      "source": [
        "from sklearn.model_selection import train_test_split\n",
        "import os\n",
        "import re\n",
        "import string\n",
        "import numpy as np\n",
        "import nltk\n",
        "from nltk.corpus import stopwords\n",
        "from collections import Counter\n",
        "nltk.download('stopwords')\n",
        "import pandas as pd\n",
        "from sklearn.metrics import confusion_matrix\n",
        "from sklearn.metrics import recall_score, precision_score\n",
        "from sklearn.svm import SVC"
      ],
      "metadata": {
        "colab": {
          "base_uri": "https://localhost:8080/"
        },
        "id": "D5-3qNVXTDMw",
        "outputId": "93da769e-9dcc-4839-a61e-8e9acdc96b3d"
      },
      "execution_count": 285,
      "outputs": [
        {
          "output_type": "stream",
          "name": "stderr",
          "text": [
            "[nltk_data] Downloading package stopwords to /root/nltk_data...\n",
            "[nltk_data]   Package stopwords is already up-to-date!\n"
          ]
        }
      ]
    },
    {
      "cell_type": "markdown",
      "source": [
        "## Data Preprocessing and Feature Selection Using Information Gain"
      ],
      "metadata": {
        "id": "UBNleln03Jom"
      }
    },
    {
      "cell_type": "code",
      "source": [
        "def clean_data(data):\n",
        "  data = data.lower()\n",
        "  data = re.sub(r'\\d+', '', data)\n",
        "  data = data.translate(str.maketrans('','', string.punctuation))\n",
        "  data = data.replace('subject', '')\n",
        "  stop_words = set(stopwords.words('english'))\n",
        "  data = ' '.join([word for word in data.split() if word not in stop_words])\n",
        "  data = ' '.join([word for word in data.split() if len(word)>1])\n",
        "  data = re.sub(' +', ' ', data)\n",
        "  data = data.replace('\\n','')\n",
        "  data = data.replace('\\t','')\n",
        "  data = data.strip()\n",
        "  return data"
      ],
      "metadata": {
        "id": "OB9UgndDY5Wl"
      },
      "execution_count": 230,
      "outputs": []
    },
    {
      "cell_type": "code",
      "source": [
        "data_path = 'lingspam_public/lemm_stop'\n",
        "emails, labels = [], []\n",
        "all_words = ''\n",
        "total_words_in_spam = ''\n",
        "total_words_in_ham = ''\n",
        "\n",
        "# Load emails\n",
        "for root, dirs, files in os.walk(data_path):\n",
        "    if 'part10' in dirs:\n",
        "        dirs.remove('part10')\n",
        "    print(files)\n",
        "    for file in files:\n",
        "        if file.endswith('.txt'):\n",
        "            with open(os.path.join(root, file), 'r', encoding='latin1') as f:\n",
        "                text = clean_data(f.read())\n",
        "                all_words = all_words + text\n",
        "                emails.append(text)\n",
        "                # Mark spam emails\n",
        "                labels.append(1 if 'sp' in file else 0)\n",
        "                if 'sp' in file:\n",
        "                  total_words_in_spam+=text\n",
        "                else:\n",
        "                  total_words_in_ham+=text"
      ],
      "metadata": {
        "colab": {
          "base_uri": "https://localhost:8080/"
        },
        "id": "Kp9UVuDqTFG-",
        "outputId": "e1cbfaff-7d56-4155-f319-6cd11fa30647"
      },
      "execution_count": 231,
      "outputs": [
        {
          "output_type": "stream",
          "name": "stdout",
          "text": [
            "[]\n",
            "['6-11msg1.txt', '6-1127msg1.txt', '6-160msg3.txt', '6-109msg1.txt', '6-175msg1.txt', '6-1103msg1.txt', 'spmsga56.txt', 'spmsga73.txt', '6-151msg2.txt', '6-1146msg3.txt', '6-1122msg1.txt', '6-112msg1.txt', '6-1112msg1.txt', '6-189msg2.txt', 'spmsga71.txt', '6-199msg3.txt', '6-1104msg1.txt', '6-232msg2.txt', '6-162msg2.txt', '6-166msg3.txt', '6-16msg1.txt', '6-1130msg1.txt', '6-1056msg3.txt', '6-1117msg1.txt', '6-1109msg1.txt', '6-186msg3.txt', '6-1065msg1.txt', '6-1156msg1.txt', '6-21msg1.txt', '6-1116msg1.txt', '6-121msg1.txt', '6-1082msg1.txt', 'spmsga44.txt', '6-1118msg3.txt', '6-110msg3.txt', '6-1138msg3.txt', '6-1095msg2.txt', '6-173msg1.txt', '6-205msg3.txt', 'spmsga67.txt', 'spmsga45.txt', '6-1155msg2.txt', 'spmsga42.txt', '6-176msg1.txt', '6-205msg1.txt', '6-163msg1.txt', '6-1111msg1.txt', '6-120msg1.txt', 'spmsga53.txt', 'spmsga49.txt', 'spmsga58.txt', '6-151msg1.txt', '6-15msg2.txt', '6-1139msg1.txt', '6-187msg1.txt', '6-197msg1.txt', 'spmsga48.txt', '6-1125msg5.txt', '6-225msg1.txt', '6-1155msg1.txt', 'spmsga77.txt', '6-1124msg1.txt', '6-222msg3.txt', '6-10msg1.txt', '6-108msg1.txt', '6-126msg1.txt', '6-107msg3.txt', '6-241msg1.txt', '6-110msg1.txt', '6-1074msg1.txt', '6-1155msg3.txt', '6-14msg3.txt', 'spmsga43.txt', '6-1094msg1.txt', '6-1075msg1.txt', '6-151msg4.txt', '6-14msg1.txt', '6-107msg2.txt', '6-203msg2.txt', 'spmsga6.txt', 'spmsga76.txt', 'spmsga52.txt', '6-199msg1.txt', '6-212msg0.txt', '6-1098msg1.txt', '6-1142msg1.txt', '6-150msg2.txt', '6-1134msg1.txt', '6-1157msg1.txt', 'spmsga72.txt', '6-1086msg1.txt', '6-1150msg1.txt', '6-207msg1.txt', '6-197msg3.txt', '6-1102msg2.txt', '6-162msg1.txt', 'spmsga51.txt', '6-1125msg3.txt', '6-1058msg1.txt', '6-200msg1.txt', '6-1063msg1.txt', '6-160msg1.txt', '6-195msg1.txt', '6-199msg2.txt', '6-1063msg2.txt', '6-15msg1.txt', '6-1102msg3.txt', '6-1070msg1.txt', '6-1114msg1.txt', 'spmsga59.txt', '6-1077msg1.txt', '6-122msg1.txt', '6-1144msg1.txt', '6-1152msg1.txt', '6-163msg2.txt', '6-188msg1.txt', '6-151msg3.txt', '6-1112msg3.txt', '6-1115msg1.txt', '6-205msg2.txt', '6-1157msg3.txt', '6-1157msg2.txt', '6-1092msg1.txt', '6-1151msg1.txt', '6-1101msg3.txt', '6-1105msg1.txt', '6-217msg1.txt', '6-1095msg1.txt', 'spmsga46.txt', '6-1095msg3.txt', 'spmsga61.txt', '6-146msg1.txt', '6-1159msg1.txt', '6-1125msg2.txt', 'spmsga5.txt', '6-15msg3.txt', '6-1090msg1.txt', 'spmsga39.txt', '6-167msg2.txt', '6-1088msg1.txt', '6-132msg1.txt', 'spmsga57.txt', '6-1145msg1.txt', 'spmsga65.txt', '6-1148msg1.txt', '6-237msg1.txt', '6-1081msg1.txt', '6-163msg3.txt', '6-1123msg1.txt', '6-167msg3.txt', '6-1084msg1.txt', '6-134msg1.txt', '6-1138msg2.txt', '6-221msg1.txt', '6-223msg1.txt', '6-166msg2.txt', '6-1msg1.txt', '6-209msg3.txt', '6-1121msg1.txt', 'spmsga69.txt', '6-1107msg1.txt', '6-199msg5.txt', '6-1109msg3.txt', '6-139msg1.txt', '6-1096msg1.txt', '6-21msg2.txt', '6-119msg1.txt', '6-199msg4.txt', '6-203msg1.txt', '6-124msg1.txt', '6-186msg2.txt', '6-21msg3.txt', '6-203msg3.txt', '6-190msg0.txt', '6-1138msg1.txt', 'spmsga66.txt', '6-1146msg1.txt', '6-1112msg2.txt', '6-1147msg3.txt', '6-182msg1.txt', '6-214msg1.txt', '6-113msg2.txt', '6-1126msg1.txt', 'spmsga36.txt', '6-156msg1.txt', '6-22msg1.txt', '6-1101msg2.txt', 'spmsga50.txt', '6-201msg2.txt', 'spmsga38.txt', '6-1128msg2.txt', '6-125msg1.txt', '6-1118msg2.txt', '6-211msg1.txt', '6-1137msg1.txt', '6-1147msg2.txt', '6-189msg1.txt', '6-236msg1.txt', '6-224msg1.txt', '6-110msg2.txt', 'spmsga74.txt', '6-201msg1.txt', '6-1106msg1.txt', 'spmsga4.txt', 'spmsga68.txt', '6-1120msg1.txt', '6-210msg1.txt', '6-152msg1.txt', '6-150msg1.txt', '6-1118msg1.txt', '6-1073msg1.txt', '6-166msg1.txt', '6-1129msg1.txt', '6-1128msg1.txt', '6-1101msg1.txt', '6-1147msg1.txt', '6-167msg1.txt', '6-1146msg2.txt', '6-190msg1.txt', '6-197msg2.txt', '6-1091msg1.txt', '6-20msg1.txt', '6-1097msg1.txt', '6-173msg3.txt', '6-1071msg1.txt', '6-1102msg1.txt', '6-113msg3.txt', '6-1087msg1.txt', '6-160msg2.txt', '6-1093msg1.txt', 'spmsga78.txt', '6-150msg3.txt', 'spmsga63.txt', '6-209msg1.txt', '6-232msg1.txt', '6-222msg1.txt', 'spmsga37.txt', 'spmsga7.txt', '6-232msg3.txt', '6-113msg1.txt', '6-107msg1.txt', 'spmsga55.txt', '6-228msg1.txt', '6-1066msg1.txt', '6-10msg3.txt', '6-235msg1.txt', '6-162msg3.txt', '6-1056msg2.txt', '6-1061msg1.txt', 'spmsga70.txt', '6-141msg1.txt', 'spmsga62.txt', '6-1125msg4.txt', '6-1154msg1.txt', '6-212msg1.txt', '6-1089msg1.txt', 'spmsga75.txt', 'spmsga40.txt', '6-1059msg1.txt', '6-186msg1.txt', 'spmsga41.txt', '6-1063msg3.txt', '6-1125msg1.txt', '6-201msg3.txt', '6-1099msg1.txt', '6-1085msg1.txt', '6-1062msg1.txt', '6-1149msg1.txt', '6-10msg2.txt', '6-169msg1.txt', '6-189msg3.txt', 'spmsga79.txt', '6-209msg2.txt', 'spmsga64.txt', '6-1069msg1.txt', '6-1072msg1.txt', '6-151msg5.txt', '6-173msg2.txt', '6-1161msg1.txt', 'spmsga60.txt', 'spmsga47.txt', '6-1136msg1.txt', 'spmsga54.txt', '6-222msg2.txt', '6-1131msg1.txt', '6-1109msg2.txt', '6-14msg2.txt', '6-118msg1.txt', '6-1128msg3.txt']\n",
            "['9-1058msg1.txt', 'spmsgb15.txt', '9-103msg1.txt', '9-1225msg1.txt', '8-963msg2.txt', '8-815msg1.txt', '9-1105msg1.txt', '9-1231msg1.txt', '8-1215msg1.txt', '9-1104msg1.txt', '9-1153msg1.txt', '9-1157msg1.txt', '9-118msg1.txt', '8-898msg1.txt', '8-905msg2.txt', 'spmsgb125.txt', '9-1114msg1.txt', '9-1243msg2.txt', '8-896msg1.txt', '9-1045msg2.txt', '8-1214msg1.txt', '8-1182msg2.txt', '9-1047msg1.txt', '9-1073msg1.txt', '9-1110msg1.txt', '9-1184msg1.txt', 'spmsgb138.txt', '9-1146msg1.txt', 'spmsgb162.txt', '9-1033msg1.txt', '9-1160msg1.txt', '9-1113msg1.txt', '9-1099msg2.txt', 'spmsgb154.txt', '9-1087msg1.txt', '9-108msg1.txt', '9-1240msg1.txt', '9-1215msg1.txt', '9-118msg2.txt', '9-1252msg1.txt', '9-1155msg1.txt', '9-1246msg1.txt', '8-838msg1.txt', 'spmsgb134.txt', '9-1036msg1.txt', '9-1191msg1.txt', '9-1172msg2.txt', '9-1118msg1.txt', 'spmsgb149.txt', '8-887msg2.txt', '9-1033msg2.txt', '8-972msg2.txt', '9-1143msg1.txt', '8-905msg1.txt', '9-1222msg1.txt', '9-1072msg1.txt', '9-1091msg1.txt', '9-1017msg2.txt', '8-838msg2.txt', 'spmsgb144.txt', '8-893msg1.txt', 'spmsgb127.txt', '9-1217msg1.txt', '8-900msg1.txt', '8-1211msg1.txt', 'spmsgb135.txt', '9-1137msg1.txt', '9-1020msg1.txt', '9-1067msg1.txt', '9-1090msg1.txt', '9-1073msg2.txt', 'spmsgb163.txt', 'spmsgb159.txt', '8-865msg2.txt', 'spmsgb151.txt', '9-1100msg1.txt', '9-1089msg1.txt', '8-833msg1.txt', 'spmsgb156.txt', '9-1011msg1.txt', '9-1080msg2.txt', '8-901msg1.txt', '9-1035msg1.txt', '9-1102msg2.txt', 'spmsgb123.txt', '9-1022msg1.txt', '9-1260msg1.txt', '9-1122msg1.txt', '9-1026msg1.txt', '9-1230msg1.txt', 'spmsgb150.txt', 'spmsgb124.txt', '9-1238msg1.txt', '8-949msg2.txt', '9-1086msg1.txt', '9-1044msg1.txt', 'spmsgb140.txt', '9-1040msg1.txt', '8-1231msg1.txt', '9-1216msg1.txt', 'spmsgb147.txt', 'spmsgb139.txt', 'spmsgb128.txt', '8-916msg1.txt', '9-1193msg1.txt', '9-1221msg1.txt', '9-1153msg2.txt', '8-809msg1.txt', '9-1177msg1.txt', '9-1030msg1.txt', '8-894msg1.txt', '8-1242msg1.txt', '9-114msg1.txt', 'spmsgb158.txt', '9-1163msg1.txt', 'spmsgb136.txt', '8-871msg1.txt', '9-1161msg1.txt', '8-846msg1.txt', '8-963msg1.txt', '9-1111msg1.txt', '9-1085msg1.txt', '9-1088msg1.txt', '9-1208msg1.txt', '9-119msg1.txt', '9-1259msg1.txt', '8-984msg1.txt', 'spmsgb141.txt', '9-1165msg1.txt', '9-1038msg1.txt', '9-1128msg2.txt', '9-1226msg2.txt', 'spmsgb129.txt', 'spmsgb137.txt', '9-1156msg1.txt', '9-1045msg1.txt', '9-1119msg1.txt', '9-106msg1.txt', 'spmsgb155.txt', '9-1162msg1.txt', '9-1261msg1.txt', '8-865msg3.txt', '9-1135msg1.txt', '8-987msg1.txt', '8-1239msg1.txt', '9-1098msg1.txt', '9-1226msg1.txt', '9-1239msg1.txt', '9-110msg1.txt', '9-1003msg1.txt', '9-1077msg1.txt', '9-1219msg1.txt', '9-1077msg2.txt', '9-1145msg1.txt', 'spmsgb153.txt', '8-965msg2.txt', '9-1001msg1.txt', '9-1254msg1.txt', '9-1133msg1.txt', '9-1116msg2.txt', '9-1200msg1.txt', '8-840msg1.txt', '9-1152msg1.txt', 'spmsgb132.txt', '9-1232msg1.txt', '9-114msg2.txt', '9-1074msg1.txt', '9-1158msg1.txt', '9-1244msg1.txt', '9-1070msg1.txt', '8-837msg2.txt', '8-837msg1.txt', 'spmsgb143.txt', '9-1144msg1.txt', '9-1195msg2.txt', '9-1236msg1.txt', '9-1199msg2.txt', '8-1182msg1.txt', '9-1251msg1.txt', '9-1253msg1.txt', '8-1245msg1.txt', '9-1139msg1.txt', '9-1078msg1.txt', '9-120msg1.txt', '9-1055msg1.txt', '9-1192msg1.txt', 'spmsgb148.txt', '9-1066msg1.txt', '9-101msg1.txt', '9-1082msg1.txt', 'spmsgb16.txt', '8-845msg1.txt', '9-1228msg1.txt', '9-1208msg2.txt', '9-106msg2.txt', '9-1123msg1.txt', '8-951msg1.txt', '9-1258msg2.txt', '9-1116msg1.txt', 'spmsgb164.txt', 'spmsgb160.txt', 'spmsgb126.txt', '9-1039msg1.txt', '9-1029msg1.txt', 'spmsgb133.txt', '9-1188msg1.txt', '8-862msg1.txt', 'spmsgb142.txt', 'spmsgb152.txt', '9-124msg1.txt', '9-1220msg1.txt', '9-1142msg1.txt', '9-1243msg1.txt', '9-1062msg1.txt', '9-1012msg1.txt', '8-895msg1.txt', 'spmsgb161.txt', '9-1037msg1.txt', '9-1190msg1.txt', '8-899msg1.txt', '9-1102msg1.txt', '9-1043msg1.txt', '8-873msg1.txt', '9-101msg2.txt', 'spmsgb145.txt', '9-125msg1.txt', '9-1097msg1.txt', '9-1004msg1.txt', '9-1080msg1.txt', 'spmsgb146.txt', '9-1258msg1.txt', '9-1172msg1.txt', 'spmsgb165.txt', 'spmsgb131.txt', '8-865msg1.txt', '9-1043msg2.txt', '8-811msg2.txt', '9-1021msg1.txt', 'spmsgb157.txt', '8-887msg1.txt', '8-1214msg2.txt', 'spmsgb130.txt', '9-1099msg1.txt', '9-1218msg1.txt', '9-1138msg1.txt', '8-949msg1.txt', '9-1064msg1.txt', '9-1014msg1.txt', '9-1125msg1.txt', 'spmsgb13.txt', '9-1206msg1.txt', '8-835msg1.txt', '8-811msg1.txt', '9-1140msg1.txt', '9-1008msg1.txt', '9-1164msg1.txt', '9-1251msg2.txt', '8-885msg1.txt', '9-1121msg1.txt', '9-1082msg2.txt', '9-1115msg1.txt', '9-109msg1.txt', '9-1020msg2.txt', '9-1017msg1.txt', '9-1199msg1.txt', 'spmsgb14.txt', '8-972msg1.txt', '8-814msg1.txt', '9-1009msg1.txt', '9-1154msg1.txt', '9-1112msg1.txt', '9-111msg1.txt', '9-1207msg1.txt', '9-1249msg1.txt', '9-1065msg1.txt', '9-1141msg1.txt', '9-1134msg1.txt', '8-875msg1.txt', '9-1034msg1.txt', '8-987msg2.txt', '9-1002msg1.txt', '8-1204msg1.txt', '8-965msg1.txt', 'spmsgb122.txt', '9-1244msg2.txt', '9-1069msg1.txt', '9-1163msg2.txt', '9-1195msg1.txt', '9-1128msg1.txt', '8-897msg1.txt']\n",
            "['3-433msg1.txt', '3-398msg1.txt', '5-1215msg1.txt', '3-547msg1.txt', '5-1245msg3.txt', '5-1265msg1.txt', '5-1251msg1.txt', '5-1227msg2.txt', '3-436msg3.txt', '3-388msg1.txt', '3-414msg2.txt', '3-554msg2.txt', '5-1222msg2.txt', '3-411msg1.txt', '5-1291msg3.txt', 'spmsga133.txt', '5-1261msg1.txt', '5-1285msg1.txt', '5-1217msg3.txt', '3-418msg3.txt', 'spmsga117.txt', '3-379msg3.txt', '3-415msg1.txt', '3-401msg1.txt', '3-404msg4.txt', '3-416msg4.txt', '3-425msg1.txt', 'spmsga122.txt', '5-1221msg1.txt', '3-423msg2.txt', '3-553msg1.txt', '3-437msg1.txt', '5-1256msg1.txt', '3-436msg1.txt', 'spmsga124.txt', '5-1222msg1.txt', '3-430msg1.txt', '5-1217msg1.txt', '3-378msg3.txt', '3-383msg0.txt', '3-437msg4.txt', '5-1242msg1.txt', '3-562msg1.txt', '5-1219msg1.txt', '3-404msg5.txt', '5-1230msg1.txt', 'spmsga132.txt', '5-1225msg1.txt', 'spmsga116.txt', '3-426msg2.txt', '3-437msg3.txt', '3-421msg2.txt', '3-557msg3.txt', 'spmsga10.txt', '5-1285msg2.txt', 'spmsga123.txt', '3-418msg1.txt', 'spmsga136.txt', '3-442msg3.txt', '5-1243msg2.txt', '3-553msg0.txt', 'spmsga140.txt', '5-1225msg2.txt', '3-375msg1.txt', '5-1282msg2.txt', '3-1msg2.txt', '5-1291msg2.txt', '5-1218msg1.txt', '5-1279msg1.txt', '5-1268msg1.txt', '3-419msg1.txt', 'spmsga100.txt', '5-1266msg2.txt', '3-559msg1.txt', '3-416msg5.txt', '5-1278msg1.txt', '3-387msg0.txt', '3-378msg4.txt', '5-1236msg1.txt', '3-559msg7.txt', 'spmsga119.txt', '5-1277msg1.txt', 'spmsga134.txt', '3-435msg1.txt', '3-426msg1.txt', '5-1245msg2.txt', '3-557msg1.txt', '3-380msg7.txt', '5-1245msg1.txt', '3-395msg2.txt', '3-559msg2.txt', '3-425msg2.txt', '3-426msg3.txt', 'spmsga14.txt', '3-402msg2.txt', '5-1257msg3.txt', '3-429msg0.txt', '5-1254msg1.txt', '3-559msg3.txt', '3-391msg1.txt', '3-442msg2.txt', 'spmsga101.txt', '3-418msg2.txt', 'spmsga128.txt', '3-378msg2.txt', '3-416msg3.txt', '3-384msg1.txt', '3-387msg2.txt', '3-380msg3.txt', '3-384msg2.txt', '3-1msg1.txt', 'spmsga115.txt', '3-404msg1.txt', '5-1257msg1.txt', 'spmsga126.txt', 'spmsga13.txt', '3-397msg1.txt', '3-404msg3.txt', '3-390msg3.txt', '5-1296msg2.txt', '3-390msg2.txt', '3-558msg1.txt', 'spmsga138.txt', '5-1226msg2.txt', '3-559msg5.txt', '5-1239msg2.txt', 'spmsga141.txt', '3-387msg1.txt', '5-1282msg3.txt', '3-414msg3.txt', '3-413msg2.txt', '3-380msg1.txt', '5-1297msg1.txt', '5-1227msg3.txt', '3-390msg4.txt', '3-565msg3.txt', '3-378msg1.txt', '3-559msg8.txt', '5-1286msg2.txt', '3-550msg1.txt', '3-404msg2.txt', '3-402msg3.txt', '3-422msg1.txt', '3-563msg1.txt', 'spmsga108.txt', '3-437msg2.txt', '3-444msg1.txt', '3-565msg2.txt', '5-1264msg4.txt', '3-416msg2.txt', '5-1263msg1.txt', '3-433msg3.txt', '3-379msg2.txt', '3-390msg1.txt', 'spmsga125.txt', '5-1296msg1.txt', '5-1264msg2.txt', '3-554msg1.txt', '5-1282msg1.txt', '5-1243msg1.txt', '5-1229msg1.txt', '5-1293msg3.txt', '3-557msg2.txt', '5-1286msg1.txt', '5-1271msg1.txt', '5-1285msg3.txt', '5-1284msg1.txt', '5-1213msg1.txt', '5-1218msg3.txt', '3-383msg1.txt', '3-385msg2.txt', 'spmsga107.txt', '3-405msg4.txt', '5-1243msg3.txt', 'spmsga131.txt', '5-1226msg1.txt', '3-392msg1.txt', '3-421msg5.txt', '3-425msg3.txt', '3-402msg1.txt', '3-415msg0.txt', '5-1217msg2.txt', '3-442msg1.txt', 'spmsga130.txt', '5-1226msg3.txt', '3-550msg2.txt', '3-405msg1.txt', '3-445msg1.txt', '5-1240msg1.txt', '3-384msg3.txt', 'spmsga120.txt', '5-1268msg2.txt', '3-380msg4.txt', '3-416msg1.txt', 'spmsga127.txt', '5-1288msg1.txt', '3-380msg2.txt', '5-1274msg1.txt', '3-413msg1.txt', '3-423msg3.txt', 'spmsga111.txt', '5-1293msg2.txt', '3-414msg1.txt', '3-437msg5.txt', '5-1255msg1.txt', 'spmsga137.txt', '5-1296msg3.txt', '3-553msg3.txt', '3-404msg7.txt', '5-1218msg5.txt', '5-1275msg1.txt', 'spmsga104.txt', '5-1218msg4.txt', '3-424msg1.txt', 'spmsga112.txt', '5-1286msg3.txt', '3-389msg1.txt', '5-1273msg2.txt', '5-1237msg1.txt', '3-436msg2.txt', '3-390msg0.txt', '5-1239msg1.txt', '3-550msg3.txt', '5-1266msg3.txt', '3-421msg4.txt', '3-553msg2.txt', '5-1278msg0.txt', '3-421msg3.txt', 'spmsga113.txt', '5-1219msg2.txt', 'spmsga1.txt', '3-433msg2.txt', 'spmsga102.txt', 'spmsga114.txt', '5-1264msg5.txt', 'spmsga121.txt', '5-1227msg1.txt', '5-1211msg1.txt', '5-1292msg1.txt', '3-565msg1.txt', 'spmsga110.txt', 'spmsga139.txt', 'spmsga109.txt', 'spmsga105.txt', '3-559msg9.txt', '5-1273msg3.txt', '3-380msg6.txt', '5-1264msg3.txt', '3-405msg3.txt', '5-1266msg1.txt', '5-1290msg1.txt', '3-385msg1.txt', '5-1279msg2.txt', '3-423msg1.txt', '5-1219msg3.txt', 'spmsga106.txt', '3-384msg0.txt', '3-404msg6.txt', '5-1293msg1.txt', '3-405msg2.txt', 'spmsga12.txt', '5-1273msg1.txt', 'spmsga129.txt', '3-392msg0.txt', '3-421msg1.txt', '3-378msg5.txt', '3-559msg4.txt', '3-410msg1.txt', '3-1msg3.txt', 'spmsga11.txt', 'spmsga103.txt', '3-385msg3.txt', '5-1264msg1.txt', '3-380msg5.txt', '3-559msg6.txt', '5-1225msg3.txt', '3-390msg5.txt', '5-1258msg1.txt', '3-395msg1.txt', '5-1291msg1.txt', '5-1218msg2.txt', '5-1257msg2.txt', 'spmsga118.txt', '5-1268msg3.txt', 'spmsga135.txt', '3-379msg1.txt', '5-1279msg3.txt', '3-413msg3.txt', '5-1239msg3.txt']\n",
            "['spmsgc106.txt', '6-960msg1.txt', '8-1207msg1.txt', '6-82msg1.txt', '8-1216msg1.txt', '6-813msg3.txt', 'spmsgc139.txt', '8-1171msg2.txt', '6-838msg1.txt', '6-875msg3.txt', '6-875msg2.txt', '8-1108msg1.txt', '6-992msg4.txt', '8-1154msg1.txt', '6-801msg3.txt', '6-829msg3.txt', '8-1199msg1.txt', 'spmsgc13.txt', '6-828msg1.txt', '6-825msg3.txt', '8-1064msg1.txt', '8-1125msg3.txt', '6-816msg1.txt', 'spmsgc136.txt', 'spmsgc122.txt', '6-900msg1.txt', '6-965msg1.txt', '8-1051msg1.txt', 'spmsgc100.txt', '8-1212msg1.txt', '8-1123msg1.txt', 'spmsgc128.txt', '6-809msg2.txt', '8-1144msg1.txt', '8-1125msg1.txt', '8-1232msg3.txt', '8-1226msg1.txt', '6-890msg1.txt', '6-809msg1.txt', '6-823msg2.txt', '8-1084msg2.txt', '6-809msg3.txt', '6-833msg1.txt', '6-802msg2.txt', '6-978msg1.txt', '8-1132msg1.txt', 'spmsgc103.txt', '6-837msg1.txt', '6-97msg1.txt', '6-964msg1.txt', '8-1243msg1.txt', '8-1229msg1.txt', '6-915msg1.txt', '8-1171msg3.txt', '6-897msg3.txt', '6-89msg1.txt', '6-801msg1.txt', '6-987msg2.txt', '8-1153msg3.txt', 'spmsgc133.txt', '6-923msg1.txt', '8-1202msg1.txt', '6-907msg2.txt', 'spmsgc102.txt', '6-879msg1.txt', '8-1136msg1.txt', '8-1054msg1.txt', '8-1122msg1.txt', '8-1089msg1.txt', '6-992msg2.txt', '6-977msg1.txt', 'spmsgc115.txt', '6-801msg2.txt', '8-1150msg1.txt', '6-825msg1.txt', '8-1018msg1.txt', '8-1137msg1.txt', 'spmsgc125.txt', '6-896msg1.txt', '6-957msg2.txt', '6-987msg4.txt', 'spmsgc132.txt', 'spmsgc123.txt', '6-949msg2.txt', 'spmsgc112.txt', '6-813msg2.txt', '8-1139msg1.txt', '6-981msg1.txt', '6-917msg2.txt', '6-993msg1.txt', '6-939msg2.txt', '8-1153msg2.txt', '8-1206msg3.txt', '6-949msg3.txt', '6-941msg1.txt', '6-828msg3.txt', 'spmsgc126.txt', '6-852msg1.txt', '6-896msg3.txt', '6-957msg4.txt', '6-922msg3.txt', '6-896msg2.txt', '8-1225msg2.txt', '8-1084msg1.txt', '8-1075msg2.txt', '8-1117msg1.txt', 'spmsgc137.txt', '6-799msg1.txt', '6-820msg1.txt', '8-1152msg1.txt', '6-839msg1.txt', '6-904msg0.txt', 'spmsgc124.txt', '8-1225msg4.txt', '6-987msg1.txt', '8-1031msg1.txt', '6-890msg3.txt', '6-907msg3.txt', '6-856msg2.txt', '6-992msg3.txt', '8-1133msg1.txt', 'spmsgc104.txt', '8-1171msg1.txt', '6-829msg1.txt', 'spmsgc114.txt', '8-1178msg1.txt', '8-1110msg1.txt', '8-1135msg1.txt', 'spmsgc140.txt', '6-889msg1.txt', '6-957msg5.txt', '6-939msg1.txt', '8-1225msg1.txt', '6-981msg2.txt', '8-1086msg1.txt', '8-1000msg1.txt', '8-1201msg1.txt', '8-1104msg1.txt', '6-7msg1.txt', 'spmsgc12.txt', '8-1075msg1.txt', '8-1113msg1.txt', '6-995msg1.txt', '6-813msg1.txt', '6-897msg2.txt', '8-1125msg4.txt', '6-949msg1.txt', '6-957msg3.txt', '8-1173msg1.txt', '8-1030msg1.txt', '6-832msg1.txt', '6-955msg2.txt', 'spmsgc105.txt', '8-1225msg3.txt', '8-1128msg1.txt', '6-987msg3.txt', 'spmsgc134.txt', '8-1221msg1.txt', '6-839msg3.txt', '6-922msg2.txt', '8-1247msg1.txt', '6-932msg1.txt', 'spmsgc101.txt', '6-844msg3.txt', '6-818msg1.txt', '6-922msg1.txt', '6-981msg3.txt', '6-938msg1.txt', '8-1125msg2.txt', '6-914msg1.txt', '6-917msg1.txt', '8-1232msg4.txt', 'spmsgc135.txt', '8-1222msg1.txt', '8-1232msg1.txt', '6-976msg1.txt', '6-992msg5.txt', '6-806msg3.txt', '8-1020msg1.txt', '6-959msg1.txt', '6-916msg1.txt', '8-1190msg1.txt', '6-819msg1.txt', '6-823msg1.txt', 'spmsgc109.txt', '6-7msg3.txt', 'spmsgc131.txt', '6-854msg1.txt', '8-1057msg1.txt', '8-1077msg1.txt', '6-877msg1.txt', '6-917msg3.txt', '6-953msg1.txt', '6-80msg3.txt', '6-987msg5.txt', '6-845msg1.txt', '8-1208msg1.txt', 'spmsgc138.txt', '6-80msg2.txt', 'spmsgc143.txt', '6-806msg2.txt', '6-856msg3.txt', '6-990msg1.txt', '8-1153msg1.txt', 'spmsgc110.txt', '6-985msg1.txt', '8-810msg1.txt', '8-1041msg1.txt', '8-1206msg2.txt', '8-1126msg1.txt', '6-829msg2.txt', '8-1001msg1.txt', 'spmsgc111.txt', '8-1079msg1.txt', '8-1151msg1.txt', '6-916msg3.txt', '8-1232msg2.txt', '8-1017msg1.txt', '6-828msg2.txt', '6-856msg1.txt', '8-1179msg1.txt', 'spmsgc11.txt', '8-1044msg1.txt', '6-992msg1.txt', 'spmsgc14.txt', 'spmsgc107.txt', '6-983msg1.txt', '6-839msg2.txt', '6-897msg1.txt', 'spmsgc120.txt', '6-825msg2.txt', 'spmsgc129.txt', '6-955msg1.txt', '6-798msg3.txt', '8-1092msg1.txt', '6-955msg3.txt', '6-921msg2.txt', 'spmsgc127.txt', '8-1163msg1.txt', '8-1095msg1.txt', '6-831msg1.txt', '6-80msg4.txt', '6-943msg1.txt', '6-80msg5.txt', '6-916msg2.txt', '8-1134msg1.txt', '6-806msg1.txt', '8-816msg1.txt', '6-891msg1.txt', 'spmsgc142.txt', '6-841msg1.txt', '8-1097msg1.txt', '6-907msg1.txt', '8-1082msg1.txt', '8-1177msg1.txt', '6-904msg1.txt', '8-1119msg1.txt', '8-1206msg1.txt', 'spmsgc113.txt', 'spmsgc117.txt', '8-1237msg1.txt', '8-1096msg1.txt', '6-890msg2.txt', '8-1220msg1.txt', '6-939msg3.txt', 'spmsgc119.txt', '6-948msg1.txt', '6-878msg1.txt', 'spmsgc121.txt', '6-921msg3.txt', '8-1168msg1.txt', 'spmsgc118.txt', '6-96msg1.txt', '6-7msg2.txt', 'spmsgc108.txt', '6-875msg1.txt', '6-989msg1.txt', 'spmsgc130.txt', '6-802msg0.txt', '6-957msg1.txt', '6-951msg1.txt', '6-921msg1.txt', '6-855msg1.txt', '6-80msg1.txt', 'spmsgc141.txt', '6-802msg1.txt', 'spmsgc116.txt', '8-1185msg1.txt', '6-830msg1.txt']\n",
            "['6-396msg1.txt', '6-863msg1.txt', '6-81msg1.txt', '6-390msg2.txt', '6-300msg1.txt', '8-1172msg1.txt', '6-4msg2.txt', '6-378msg3.txt', 'spmsgb108.txt', '6-36msg1.txt', '6-899msg1.txt', '6-991msg1.txt', 'spmsgb120.txt', '6-426msg1.txt', 'spmsga94.txt', 'spmsga96.txt', '6-843msg3.txt', '6-432msg3.txt', '6-55msg1.txt', '6-333msg2.txt', '8-1066msg2.txt', '6-420msg2.txt', '6-326msg1.txt', '6-432msg1.txt', '8-1071msg1.txt', '6-416msg1.txt', '6-76msg1.txt', '6-317msg1.txt', '8-1161msg1.txt', '6-329msg2.txt', '6-33msg1.txt', '6-435msg1.txt', '6-843msg1.txt', '6-41msg1.txt', 'spmsga81.txt', 'spmsga85.txt', '6-396msg2.txt', '6-860msg1.txt', '6-420msg1.txt', '6-859msg1.txt', '6-789msg1.txt', '6-429msg1.txt', 'spmsga83.txt', '6-57msg1.txt', '6-51msg1.txt', '6-844msg1.txt', '6-475msg2.txt', '6-304msg1.txt', 'spmsga86.txt', '6-327msg5.txt', '8-1143msg1.txt', '6-4msg1.txt', '6-471msg1.txt', '6-396msg3.txt', '6-385msg1.txt', '6-254msg1.txt', '6-291msg1.txt', '6-762msg3.txt', '6-400msg2.txt', '6-326msg2.txt', '6-972msg1.txt', '6-376msg1.txt', '6-437msg2.txt', '6-406msg1.txt', '6-367msg1.txt', '6-245msg3.txt', '6-311msg1.txt', '6-77msg1.txt', '6-65msg1.txt', '6-42msg1.txt', '6-420msg3.txt', '6-315msg1.txt', '8-1147msg1.txt', '8-1071msg2.txt', 'spmsgb115.txt', '6-468msg1.txt', '6-437msg1.txt', '6-297msg2.txt', '6-848msg1.txt', '6-248msg1.txt', 'spmsga90.txt', '6-843msg2.txt', '8-1159msg1.txt', '6-422msg2.txt', 'spmsga8.txt', '6-357msg1.txt', '6-456msg1.txt', '6-282msg1.txt', '6-4msg3.txt', '6-252msg1.txt', 'spmsgb119.txt', '6-785msg1.txt', '6-844msg2.txt', 'spmsga98.txt', '8-1043msg1.txt', '6-853msg1.txt', 'spmsgb10.txt', '8-1124msg0.txt', 'spmsga92.txt', '8-1121msg1.txt', '6-273msg1.txt', '6-364msg1.txt', 'spmsga87.txt', '6-390msg1.txt', '6-273msg3.txt', '6-861msg1.txt', '6-411msg1.txt', '8-1149msg0.txt', '6-846msg1.txt', '6-966msg1.txt', '6-318msg1.txt', '6-413msg3.txt', 'spmsgb100.txt', '6-241msg3.txt', '6-413msg2.txt', '6-475msg3.txt', '6-893msg1.txt', 'spmsgb114.txt', 'spmsgb101.txt', '6-348msg1.txt', 'spmsga93.txt', '6-326msg3.txt', '6-72msg1.txt', '6-289msg1.txt', '6-419msg1.txt', '6-327msg1.txt', '6-268msg1.txt', '6-248msg2.txt', 'spmsgb1.txt', '6-341msg3.txt', '8-1005msg1.txt', '6-377msg1.txt', '6-341msg1.txt', '6-359msg3.txt', '8-1063msg2.txt', 'spmsgb111.txt', '6-862msg1.txt', '6-789msg3.txt', '8-1066msg1.txt', '6-390msg3.txt', '6-778msg3.txt', '6-325msg3.txt', '6-359msg2.txt', '6-54msg1.txt', 'spmsga95.txt', 'spmsgb105.txt', '6-422msg1.txt', 'spmsga99.txt', '6-901msg1.txt', '6-289msg2.txt', '6-378msg2.txt', '6-93msg1.txt', '6-778msg2.txt', '6-31msg1.txt', '6-329msg3.txt', '8-1112msg1.txt', '6-327msg3.txt', 'spmsgb118.txt', '6-413msg1.txt', 'spmsgb104.txt', '6-790msg3.txt', '6-373msg1.txt', '6-468msg2.txt', '6-53msg1.txt', '8-1005msg2.txt', '6-294msg1.txt', '6-778msg1.txt', '6-393msg1.txt', '6-812msg1.txt', 'spmsga88.txt', '6-52msg1.txt', '8-1023msg2.txt', '6-360msg1.txt', 'spmsgb113.txt', '6-290msg1.txt', '6-459msg1.txt', 'spmsga91.txt', '6-270msg1.txt', '8-1053msg1.txt', 'spmsga89.txt', '6-257msg1.txt', '6-887msg1.txt', 'spmsgb11.txt', 'spmsga80.txt', '8-1049msg1.txt', '8-1028msg1.txt', '8-1023msg1.txt', '6-70msg1.txt', '6-400msg3.txt', '6-378msg1.txt', '8-1074msg1.txt', '6-341msg2.txt', '6-275msg1.txt', '8-1145msg1.txt', '6-45msg1.txt', '6-243msg1.txt', '6-996msg1.txt', '6-267msg1.txt', '6-762msg1.txt', '6-28msg1.txt', '6-280msg1.txt', '6-375msg1.txt', '8-1043msg2.txt', '6-334msg1.txt', '6-327msg2.txt', 'spmsga97.txt', '6-373msg3.txt', '6-273msg2.txt', '6-325msg1.txt', '6-410msg1.txt', 'spmsgb112.txt', 'spmsgb109.txt', '6-266msg2.txt', '6-256msg1.txt', 'spmsgb103.txt', '6-42msg2.txt', '6-433msg1.txt', '6-303msg1.txt', '6-858msg1.txt', '6-762msg2.txt', '6-902msg1.txt', '6-434msg1.txt', 'spmsgb12.txt', '8-1087msg1.txt', '6-371msg1.txt', '6-373msg2.txt', '6-388msg1.txt', '6-790msg1.txt', '6-925msg1.txt', '6-463msg1.txt', 'spmsgb102.txt', 'spmsga84.txt', 'spmsgb107.txt', '6-468msg3.txt', '6-357msg2.txt', '6-297msg3.txt', '6-289msg3.txt', '6-274msg1.txt', '6-329msg1.txt', '6-42msg3.txt', '6-266msg1.txt', '6-963msg1.txt', '6-418msg1.txt', '6-245msg1.txt', '6-417msg1.txt', '6-245msg2.txt', 'spmsgb117.txt', '6-309msg1.txt', 'spmsgb110.txt', '6-271msg1.txt', '6-266msg3.txt', '6-408msg1.txt', '6-849msg1.txt', '6-425msg1.txt', '8-1143msg2.txt', '6-353msg2.txt', '6-353msg3.txt', '6-272msg1.txt', '6-422msg3.txt', 'spmsgb121.txt', '6-241msg2.txt', '6-325msg2.txt', '6-790msg2.txt', 'spmsga9.txt', '6-333msg3.txt', '6-327msg4.txt', '6-297msg1.txt', '6-400msg1.txt', '6-357msg3.txt', '6-295msg1.txt', 'spmsgb116.txt', '6-362msg1.txt', '6-432msg2.txt', '8-1074msg2.txt', 'spmsga82.txt', '8-1063msg1.txt', 'spmsgb106.txt', '6-353msg1.txt', '8-1158msg1.txt', '6-475msg1.txt', '6-437msg3.txt', '8-1138msg1.txt', '6-789msg2.txt', '6-359msg1.txt', '8-1120msg1.txt', '6-864msg1.txt', '6-997msg1.txt', '6-389msg1.txt', '6-333msg1.txt']\n",
            "['5-1315msg4.txt', '5-1318msg3.txt', 'spmsga150.txt', '5-1426msg2.txt', '5-1388msg1.txt', '5-1459msg3.txt', 'spmsga146.txt', '6-1005msg1.txt', '5-1405msg1.txt', '6-1031msg1.txt', '6-1041msg1.txt', '6-1052msg1.txt', 'spmsga162.txt', '5-1482msg5.txt', '5-1415msg3.txt', '5-1326msg1.txt', '5-1298msg1.txt', 'spmsga3.txt', '5-1426msg1.txt', '5-1389msg1.txt', '5-1503msg1.txt', '5-1488msg1.txt', '5-1332msg1.txt', '6-1040msg1.txt', 'spmsga152.txt', '6-1025msg1.txt', '5-1304msg1.txt', '5-1444msg1.txt', '5-1462msg1.txt', '5-1440msg1.txt', '5-1455msg2.txt', '6-1033msg1.txt', 'spmsga158.txt', '5-1460msg1.txt', '5-1375msg3.txt', 'spmsga147.txt', '5-1475msg1.txt', '5-1492msg1.txt', '5-1307msg3.txt', '6-1048msg1.txt', '5-1386msg1.txt', 'spmsga33.txt', '6-1019msg1.txt', 'spmsga156.txt', '5-1331msg1.txt', '5-1300msg2.txt', '5-1318msg2.txt', '5-1434msg1.txt', 'spmsga24.txt', '5-1453msg1.txt', '5-1351msg1.txt', '5-1311msg1.txt', 'spmsga165.txt', '5-1470msg1.txt', '5-1454msg1.txt', '5-1390msg2.txt', '5-1473msg1.txt', '5-1303msg3.txt', '5-1450msg1.txt', 'spmsga21.txt', 'spmsga32.txt', '5-1420msg2.txt', '6-1036msg2.txt', '5-1385msg1.txt', '5-1339msg1.txt', '5-1508msg1.txt', '5-1382msg0.txt', '5-1376msg1.txt', '5-1508msg3.txt', '5-1298msg3.txt', '5-1488msg3.txt', '5-1315msg3.txt', '5-1311msg2.txt', 'spmsga163.txt', '5-1337msg1.txt', '5-1405msg2.txt', '5-1327msg1.txt', 'spmsga28.txt', '5-1505msg1.txt', '6-1050msg1.txt', '5-1375msg1.txt', '6-1003msg1.txt', '5-1353msg2.txt', 'spmsga23.txt', '5-1413msg1.txt', '5-1335msg1.txt', '5-1349msg1.txt', '5-1343msg1.txt', 'spmsga153.txt', '5-1318msg1.txt', '5-1390msg3.txt', '5-1435msg1.txt', '5-1455msg3.txt', '5-1413msg3.txt', '5-1453msg3.txt', 'spmsga155.txt', '5-1307msg2.txt', '5-1377msg1.txt', '5-1439msg1.txt', 'spmsga19.txt', '5-1459msg2.txt', '5-1352msg1.txt', '5-1356msg1.txt', '5-1328msg2.txt', '5-1415msg1.txt', 'spmsga142.txt', '5-1482msg3.txt', '6-1032msg1.txt', '5-1311msg3.txt', '5-1315msg2.txt', '5-1353msg3.txt', '5-1466msg1.txt', '5-1378msg1.txt', '5-1402msg1.txt', '6-1037msg2.txt', '5-1430msg1.txt', '5-1393msg1.txt', '5-1362msg1.txt', '6-1020msg1.txt', '5-1468msg1.txt', 'spmsga148.txt', '5-1495msg1.txt', '5-1510msg3.txt', '5-1345msg1.txt', '6-1035msg1.txt', '5-1384msg1.txt', '5-1372msg2.txt', '5-1434msg3.txt', '6-1044msg1.txt', '5-1484msg1.txt', '5-1302msg1.txt', '6-1045msg1.txt', '5-1454msg2.txt', '5-1482msg4.txt', '5-1482msg1.txt', '6-1055msg1.txt', '5-1361msg1.txt', '5-1491msg1.txt', '6-1018msg1.txt', '5-1488msg2.txt', '5-1321msg1.txt', '5-1430msg2.txt', '6-1010msg1.txt', '6-1002msg1.txt', 'spmsga18.txt', '6-1056msg1.txt', '6-1047msg1.txt', '5-1371msg1.txt', '5-1315msg1.txt', 'spmsga157.txt', 'spmsga35.txt', '5-1359msg1.txt', '6-1039msg1.txt', 'spmsga144.txt', '5-1328msg1.txt', '5-1504msg1.txt', 'spmsga166.txt', '5-1443msg1.txt', '5-1435msg2.txt', 'spmsga159.txt', '6-1030msg2.txt', '5-1431msg1.txt', '5-1509msg1.txt', '5-1333msg1.txt', 'spmsga145.txt', '6-1001msg1.txt', '6-1000msg1.txt', '6-1011msg1.txt', 'spmsga25.txt', 'spmsga143.txt', '5-1508msg2.txt', 'spmsga27.txt', '5-1434msg2.txt', '5-1383msg1.txt', '5-1316msg1.txt', '6-1037msg3.txt', '5-1328msg3.txt', '5-1298msg2.txt', '5-1402msg3.txt', '6-1017msg1.txt', '6-1036msg3.txt', '6-1049msg1.txt', 'spmsga26.txt', '5-1324msg1.txt', '5-1347msg1.txt', '5-1393msg3.txt', '5-1413msg4.txt', '5-1510msg2.txt', '6-1037msg1.txt', '6-1051msg1.txt', 'spmsga31.txt', '6-1030msg1.txt', 'spmsga20.txt', '5-1464msg1.txt', '5-1375msg4.txt', '5-1338msg1.txt', '5-1375msg2.txt', '5-1474msg1.txt', '5-1490msg1.txt', '5-1445msg1.txt', '5-1511msg1.txt', '5-1329msg1.txt', '5-1344msg1.txt', 'spmsga154.txt', '5-1499msg1.txt', '5-1405msg3.txt', '6-1030msg3.txt', '5-1398msg1.txt', 'spmsga17.txt', '5-1373msg1.txt', '5-1402msg2.txt', '5-1416msg1.txt', '5-1390msg1.txt', '6-1050msg2.txt', '5-1312msg2.txt', '5-1452msg1.txt', '5-1510msg1.txt', '5-1353msg1.txt', '5-1462msg2.txt', '5-1312msg3.txt', '5-1496msg3.txt', '5-1471msg1.txt', '5-1375msg5.txt', 'spmsga15.txt', 'spmsga149.txt', '5-1303msg1.txt', 'spmsga30.txt', '5-1498msg1.txt', '5-1358msg1.txt', '5-1462msg3.txt', '5-1463msg1.txt', '5-1330msg1.txt', '5-1455msg1.txt', 'spmsga16.txt', 'spmsga22.txt', '5-1420msg1.txt', '6-1013msg1.txt', 'spmsga151.txt', '5-1458msg1.txt', '5-1393msg2.txt', '5-1482msg2.txt', '5-1506msg1.txt', '5-1371msg2.txt', '5-1459msg1.txt', '5-1487msg1.txt', '5-1413msg5.txt', 'spmsga161.txt', '6-1029msg1.txt', '6-1009msg1.txt', '5-1486msg1.txt', '5-1420msg3.txt', '5-1370msg1.txt', 'spmsga34.txt', 'spmsga2.txt', '5-1419msg1.txt', '6-1004msg1.txt', '5-1435msg3.txt', '5-1303msg2.txt', '5-1315msg5.txt', '5-1426msg3.txt', '5-1372msg1.txt', '5-1496msg1.txt', '5-1496msg2.txt', '5-1371msg0.txt', 'spmsga164.txt', '5-1301msg1.txt', '5-1312msg1.txt', '6-1036msg1.txt', '6-1021msg1.txt', '5-1307msg1.txt', 'spmsga160.txt', '5-1432msg1.txt', '5-1479msg1.txt', '5-1372msg3.txt', '6-1008msg1.txt', '5-1300msg3.txt', '6-1022msg1.txt', '5-1497msg1.txt', '5-1415msg2.txt', '5-1472msg1.txt', '5-1442msg1.txt', '5-1300msg1.txt', '5-1325msg1.txt', '5-1413msg2.txt', '5-1430msg3.txt', '5-1453msg2.txt', 'spmsga29.txt', '5-1322msg1.txt', '6-1050msg3.txt']\n",
            "['9-1586msg1.txt', '9-1354msg3.txt', '9-1702msg1.txt', '9-1292msg1.txt', '9-1458msg1.txt', '9-126msg2.txt', 'spmsgb24.txt', '9-1608msg1.txt', '9-1295msg1.txt', 'spmsgb17.txt', 'spmsgb50.txt', '9-1337msg1.txt', '9-1343msg1.txt', '9-1273msg1.txt', 'spmsgb47.txt', 'spmsgb28.txt', '9-1648msg2.txt', '9-1566msg1.txt', '9-1484msg1.txt', '9-1543msg2.txt', '9-1376msg1.txt', '9-1525msg1.txt', '9-1433msg1.txt', '9-1293msg1.txt', '9-1415msg1.txt', '9-1329msg2.txt', '9-1267msg1.txt', '9-1484msg2.txt', '9-1467msg1.txt', '9-1480msg1.txt', '9-1566msg2.txt', 'spmsgb5.txt', '9-1530msg2.txt', 'spmsgb34.txt', '9-1400msg1.txt', 'spmsgb22.txt', '9-1323msg1.txt', '9-1699msg1.txt', '9-157msg2.txt', '9-1652msg1.txt', '9-1632msg1.txt', '9-1600msg1.txt', 'spmsgb46.txt', '9-1536msg1.txt', '9-1648msg1.txt', '9-1564msg1.txt', '9-1349msg1.txt', '9-1561msg1.txt', 'spmsgb27.txt', '9-1545msg1.txt', '9-152msg2.txt', '9-1370msg1.txt', '9-1391msg1.txt', '9-1542msg2.txt', '9-1646msg1.txt', '9-1418msg1.txt', 'spmsgb29.txt', '9-1670msg1.txt', '9-1382msg1.txt', '9-1324msg1.txt', '9-1492msg1.txt', '9-1427msg1.txt', '9-1699msg2.txt', 'spmsgb42.txt', 'spmsgb36.txt', '9-1593msg1.txt', '9-1311msg2.txt', '9-1609msg1.txt', '9-1431msg1.txt', '9-1597msg1.txt', '9-1342msg1.txt', 'spmsgb18.txt', '9-1543msg1.txt', '9-1615msg1.txt', 'spmsgb52.txt', '9-150msg1.txt', '9-154msg2.txt', '9-1510msg2.txt', '9-1301msg2.txt', '9-1441msg1.txt', '9-1266msg1.txt', '9-128msg1.txt', '9-1530msg1.txt', 'spmsgb38.txt', '9-1296msg1.txt', '9-1650msg2.txt', 'spmsgb51.txt', '9-1440msg1.txt', '9-133msg1.txt', '9-1410msg2.txt', '9-1372msg2.txt', '9-1266msg2.txt', '9-1560msg1.txt', '9-1689msg1.txt', '9-1428msg1.txt', '9-1678msg2.txt', '9-1602msg1.txt', '9-1467msg2.txt', '9-1263msg1.txt', '9-1336msg2.txt', '9-1350msg1.txt', '9-1515msg1.txt', '9-1434msg1.txt', '9-1626msg1.txt', '9-1480msg2.txt', '9-1367msg1.txt', '9-138msg2.txt', '9-1622msg1.txt', '9-1577msg2.txt', 'spmsgb40.txt', '9-1267msg2.txt', '9-1597msg2.txt', '9-1354msg1.txt', '9-1654msg1.txt', '9-1341msg1.txt', '9-1499msg1.txt', '9-1678msg1.txt', '9-1691msg1.txt', '9-1584msg1.txt', 'spmsgb35.txt', '9-1275msg1.txt', '9-1391msg2.txt', '9-1590msg2.txt', '9-1465msg1.txt', '9-1424msg1.txt', '9-1607msg1.txt', '9-1627msg1.txt', 'spmsgb3.txt', '9-1354msg2.txt', '9-1364msg1.txt', '9-1577msg1.txt', 'spmsgb25.txt', '9-138msg1.txt', '9-1617msg1.txt', '9-148msg1.txt', 'spmsgb53.txt', '9-1558msg1.txt', '9-162msg1.txt', 'spmsgb166.txt', '9-1646msg2.txt', '9-1689msg2.txt', 'spmsgb44.txt', '9-1316msg1.txt', '9-1294msg1.txt', '9-140msg1.txt', '9-1485msg2.txt', '9-159msg2.txt', '9-1546msg2.txt', '9-1680msg1.txt', '9-1414msg1.txt', '9-1587msg1.txt', 'spmsgb2.txt', '9-1598msg1.txt', '9-1436msg1.txt', '9-1336msg1.txt', '9-1329msg1.txt', '9-1625msg1.txt', '9-1602msg3.txt', '9-1417msg1.txt', '9-1430msg1.txt', '9-147msg1.txt', '9-1669msg1.txt', '9-1516msg1.txt', '9-1372msg1.txt', '9-1527msg2.txt', '9-1496msg1.txt', '9-1333msg1.txt', '9-1536msg2.txt', '9-1519msg1.txt', '9-1691msg2.txt', 'spmsgb49.txt', '9-1289msg1.txt', '9-1444msg1.txt', 'spmsgb167.txt', '9-1458msg2.txt', '9-1416msg1.txt', '9-1485msg1.txt', 'spmsgb55.txt', '9-1425msg1.txt', 'spmsgb32.txt', '9-1429msg1.txt', 'spmsgb21.txt', '9-1443msg1.txt', '9-1288msg1.txt', 'spmsgb45.txt', '9-168msg1.txt', '9-1623msg1.txt', '9-1542msg1.txt', '9-1671msg1.txt', '9-159msg1.txt', '9-1525msg2.txt', '9-1473msg1.txt', '9-1519msg2.txt', '9-1685msg1.txt', '9-1262msg1.txt', 'spmsgb33.txt', '9-1404msg1.txt', '9-14msg1.txt', '9-147msg2.txt', 'spmsgb23.txt', '9-1559msg1.txt', '9-15msg2.txt', '9-1563msg1.txt', '9-1290msg1.txt', '9-1684msg1.txt', '9-1311msg1.txt', '9-1481msg2.txt', '9-153msg1.txt', 'spmsgb168.txt', '9-1677msg1.txt', '9-1264msg1.txt', '9-1590msg1.txt', '9-152msg1.txt', 'spmsgb31.txt', '9-1424msg2.txt', '9-1666msg1.txt', 'spmsgb20.txt', '9-133msg2.txt', '9-1326msg1.txt', '9-1473msg2.txt', '9-1545msg2.txt', '9-1603msg1.txt', '9-1404msg2.txt', '9-154msg1.txt', '9-1650msg1.txt', '9-1401msg1.txt', 'spmsgb26.txt', 'spmsgb41.txt', '9-1602msg2.txt', '9-1274msg1.txt', '9-1510msg1.txt', '9-1315msg1.txt', '9-1481msg1.txt', 'spmsgb43.txt', '9-1617msg2.txt', 'spmsgb57.txt', '9-1410msg1.txt', '9-1588msg1.txt', '9-1425msg2.txt', '9-1593msg2.txt', 'spmsgb48.txt', '9-1654msg2.txt', '9-1585msg1.txt', '9-1377msg1.txt', '9-1317msg1.txt', '9-1527msg1.txt', '9-1515msg2.txt', '9-1573msg1.txt', '9-1307msg1.txt', '9-1632msg2.txt', '9-1297msg1.txt', '9-1402msg1.txt', '9-1606msg1.txt', '9-1314msg1.txt', 'spmsgb39.txt', 'spmsgb56.txt', '9-15msg1.txt', '9-1546msg1.txt', '9-1392msg1.txt', '9-1448msg1.txt', '9-1362msg1.txt', '9-1344msg1.txt', '9-1563msg2.txt', '9-1304msg1.txt', '9-167msg1.txt', '9-1375msg1.txt', '9-1400msg2.txt', 'spmsgb54.txt', '9-1373msg1.txt', 'spmsgb37.txt', '9-1677msg2.txt', '9-1403msg1.txt', '9-1465msg2.txt', '9-1301msg1.txt', '9-142msg1.txt', '9-1300msg1.txt', '9-1389msg1.txt', 'spmsgb19.txt', 'spmsgb4.txt', '9-146msg1.txt', '9-142msg2.txt', '9-1276msg1.txt', '9-1427msg2.txt', '9-1604msg1.txt', '9-126msg1.txt', '9-1390msg1.txt', '9-1680msg2.txt', 'spmsgb30.txt', '9-1564msg2.txt']\n",
            "['8-884msg1.txt', '8-956msg1.txt', 'spmsgc43.txt', '8-859msg1.txt', '9-590msg1.txt', '9-498msg1.txt', '9-526msg1.txt', 'spmsgc52.txt', 'spmsgc19.txt', '9-555msg1.txt', '8-977msg1.txt', '9-503msg1.txt', '8-872msg1.txt', '9-536msg1.txt', '8-912msg1.txt', '8-936msg1.txt', '9-523msg1.txt', '9-532msg1.txt', '9-518msg1.txt', 'spmsgc33.txt', '8-828msg2.txt', '9-416msg1.txt', '9-1819msg1.txt', '9-41msg1.txt', '9-519msg1.txt', '9-422msg1.txt', '9-4msg1.txt', '8-930msg1.txt', '9-568msg1.txt', '9-384msg1.txt', '9-542msg1.txt', '9-420msg1.txt', '9-376msg1.txt', '8-922msg1.txt', '9-583msg2.txt', '8-828msg3.txt', '9-353msg1.txt', 'spmsgc40.txt', '9-54msg2.txt', '8-907msg1.txt', 'spmsgc23.txt', '9-42msg2.txt', '9-512msg2.txt', '9-560msg1.txt', '8-864msg1.txt', '9-36msg2.txt', '9-187msg1.txt', '9-478msg1.txt', 'spmsgc144.txt', '9-519msg2.txt', 'spmsgc17.txt', '8-922msg2.txt', '9-435msg1.txt', '9-182msg1.txt', '9-513msg1.txt', '9-369msg1.txt', '9-514msg1.txt', 'spmsgc44.txt', '9-56msg1.txt', '8-863msg2.txt', '9-486msg2.txt', '9-235msg1.txt', '9-38msg1.txt', '8-922msg3.txt', 'spmsgc45.txt', '9-578msg1.txt', '9-3msg1.txt', '9-508msg1.txt', '9-3msg2.txt', 'spmsgc35.txt', 'spmsgc28.txt', '9-524msg2.txt', 'spmsgc22.txt', '9-537msg1.txt', '9-572msg1.txt', '9-1818msg1.txt', '8-879msg1.txt', '9-497msg1.txt', '9-475msg2.txt', '9-506msg2.txt', '8-977msg2.txt', '9-538msg1.txt', '8-923msg1.txt', '9-435msg2.txt', '8-978msg1.txt', '8-925msg1.txt', '9-465msg1.txt', '9-566msg1.txt', '9-475msg1.txt', 'spmsgc42.txt', '9-587msg1.txt', '9-55msg1.txt', 'spmsgc26.txt', '9-55msg2.txt', '9-472msg1.txt', '9-595msg1.txt', '9-441msg1.txt', '9-494msg1.txt', 'spmsgc20.txt', '9-486msg1.txt', '9-1782msg1.txt', '8-933msg2.txt', '8-842msg1.txt', '9-589msg1.txt', '8-933msg1.txt', 'spmsgc16.txt', '9-289msg1.txt', '9-437msg1.txt', '8-863msg1.txt', '9-442msg2.txt', '9-575msg1.txt', '9-372msg2.txt', 'spmsgc24.txt', '8-977msg3.txt', 'spmsgc2.txt', '9-516msg1.txt', '9-428msg1.txt', '8-829msg1.txt', '9-377msg2.txt', '9-417msg1.txt', '9-57msg1.txt', 'spmsgc53.txt', '9-57msg2.txt', '9-466msg1.txt', '9-517msg1.txt', '9-474msg1.txt', '9-578msg2.txt', '8-826msg1.txt', '9-477msg1.txt', '9-379msg1.txt', 'spmsgc146.txt', '9-563msg1.txt', '9-436msg1.txt', '9-561msg1.txt', 'spmsgc4.txt', '9-290msg1.txt', '8-876msg1.txt', '9-524msg1.txt', '9-531msg1.txt', '8-878msg1.txt', '8-988msg1.txt', '9-586msg1.txt', '9-429msg1.txt', '9-570msg1.txt', 'spmsgc39.txt', '9-528msg1.txt', 'spmsgc145.txt', '9-550msg1.txt', 'spmsgc29.txt', '9-377msg1.txt', '9-523msg2.txt', '9-539msg1.txt', '9-391msg1.txt', 'spmsgc51.txt', '9-387msg2.txt', '9-385msg1.txt', '9-441msg2.txt', 'spmsgc49.txt', 'spmsgc18.txt', '9-437msg2.txt', 'spmsgc41.txt', '9-515msg1.txt', '9-23msg1.txt', '9-554msg1.txt', '9-244msg1.txt', '9-461msg2.txt', '9-41msg2.txt', '9-39msg1.txt', '9-503msg2.txt', '9-422msg2.txt', '9-491msg1.txt', '9-542msg2.txt', '9-185msg1.txt', '9-463msg2.txt', '8-964msg1.txt', 'spmsgc34.txt', '9-358msg1.txt', '9-479msg1.txt', '9-1799msg1.txt', 'spmsgc30.txt', '9-498msg2.txt', '8-858msg1.txt', 'spmsgc5.txt', 'spmsgc46.txt', '9-530msg1.txt', '9-505msg2.txt', '9-42msg1.txt', '9-463msg1.txt', '8-874msg1.txt', '8-990msg1.txt', '9-415msg1.txt', '9-535msg1.txt', '9-461msg1.txt', '9-426msg1.txt', '9-53msg2.txt', '9-488msg1.txt', '9-512msg1.txt', '9-376msg2.txt', 'spmsgc36.txt', '9-480msg1.txt', '8-828msg1.txt', '9-451msg1.txt', '9-579msg1.txt', '9-571msg1.txt', 'spmsgc47.txt', '9-563msg2.txt', '8-836msg1.txt', '9-539msg2.txt', '8-881msg1.txt', 'spmsgc27.txt', '9-427msg1.txt', 'spmsgc25.txt', '9-418msg1.txt', 'spmsgc37.txt', 'spmsgc48.txt', 'spmsgc32.txt', '8-861msg1.txt', 'spmsgc15.txt', '8-820msg1.txt', '9-314msg1.txt', 'spmsgc54.txt', '9-56msg2.txt', '9-583msg1.txt', '9-22msg1.txt', '8-844msg1.txt', '9-372msg1.txt', '8-817msg1.txt', '9-551msg1.txt', '8-890msg1.txt', '9-54msg1.txt', '9-414msg2.txt', '9-350msg1.txt', '9-442msg1.txt', '9-505msg1.txt', '8-828msg4.txt', '8-821msg1.txt', '9-339msg1.txt', '9-506msg1.txt', '9-316msg1.txt', '9-220msg1.txt', '9-378msg1.txt', '9-404msg1.txt', '8-931msg1.txt', '9-190msg1.txt', '9-513msg2.txt', '9-53msg1.txt', '9-370msg2.txt', '9-406msg1.txt', '8-817msg3.txt', '9-569msg1.txt', 'spmsgc31.txt', '9-496msg1.txt', '8-892msg1.txt', 'spmsgc21.txt', '8-863msg3.txt', 'spmsgc50.txt', '9-387msg1.txt', '8-817msg2.txt', '9-570msg2.txt', '9-25msg1.txt', '9-370msg1.txt', '9-476msg1.txt', '9-552msg2.txt', '9-351msg1.txt', '9-245msg1.txt', '9-414msg1.txt', '9-496msg2.txt', '8-876msg2.txt', '9-1820msg1.txt', '8-824msg1.txt', '8-867msg1.txt', 'spmsgc38.txt', '8-933msg3.txt', '9-4msg2.txt', '9-392msg1.txt', '9-390msg1.txt', '9-590msg2.txt', '9-450msg1.txt', '9-26msg1.txt', '9-349msg1.txt', '9-552msg1.txt', 'spmsgc147.txt', '9-580msg1.txt', '9-419msg1.txt', '9-527msg1.txt', '9-508msg2.txt', '9-357msg1.txt', 'spmsgc3.txt', '8-937msg1.txt']\n",
            "['9-306msg2.txt', '6-64msg1.txt', 'spmsgb81.txt', '6-455msg2.txt', '9-172msg1.txt', 'spmsgb68.txt', '9-29msg1.txt', '9-297msg2.txt', 'spmsgb99.txt', '9-173msg1.txt', '9-29msg2.txt', '9-33msg2.txt', '6-772msg2.txt', '9-1766msg1.txt', '9-231msg1.txt', '9-243msg1.txt', '6-73msg1.txt', '9-1714msg2.txt', '6-381msg1.txt', '6-775msg1.txt', '6-430msg3.txt', '9-186msg2.txt', '9-303msg2.txt', '9-1725msg1.txt', 'spmsgb91.txt', '9-1735msg2.txt', '6-68msg1.txt', '9-226msg1.txt', '6-476msg3.txt', '9-366msg2.txt', '6-293msg1.txt', 'spmsgb73.txt', '9-1764msg1.txt', '9-195msg1.txt', '6-781msg4.txt', 'spmsgb6.txt', '6-755msg1.txt', '9-300msg1.txt', '9-352msg1.txt', '9-366msg1.txt', '9-208msg2.txt', '9-332msg1.txt', '9-364msg1.txt', 'spmsgb61.txt', '6-798msg2.txt', '9-1783msg1.txt', '9-282msg1.txt', 'spmsgb98.txt', '6-61msg1.txt', '6-381msg2.txt', '9-1763msg1.txt', '6-781msg2.txt', '9-222msg1.txt', '9-1791msg1.txt', '9-1745msg2.txt', '9-1774msg1.txt', 'spmsgb80.txt', '9-1773msg1.txt', '6-75msg1.txt', 'spmsgb59.txt', '9-209msg2.txt', '9-259msg1.txt', '9-278msg1.txt', '6-772msg1.txt', '9-184msg2.txt', 'spmsgb9.txt', '9-231msg2.txt', '9-1813msg1.txt', '9-1749msg1.txt', '9-261msg1.txt', '9-325msg1.txt', '9-1765msg1.txt', '6-430msg2.txt', '9-1798msg1.txt', 'spmsgb96.txt', '9-1753msg1.txt', '9-216msg1.txt', '9-312msg1.txt', '9-317msg2.txt', '9-1745msg1.txt', '9-1717msg1.txt', '6-74msg1.txt', '9-1716msg2.txt', '6-255msg5.txt', '9-269msg1.txt', 'spmsgb64.txt', '9-1msg1.txt', '9-1808msg1.txt', 'spmsgb76.txt', '9-243msg2.txt', '9-1744msg1.txt', '6-773msg2.txt', '9-301msg1.txt', '6-430msg1.txt', '9-1747msg1.txt', '6-474msg4.txt', '6-250msg1.txt', 'spmsgc1.txt', '9-259msg2.txt', '9-319msg1.txt', '6-454msg1.txt', '6-50msg1.txt', 'spmsgb70.txt', '6-381msg5.txt', 'spmsgb79.txt', 'spmsgb84.txt', '9-1753msg2.txt', '9-33msg1.txt', '6-781msg3.txt', '6-453msg1.txt', '6-255msg2.txt', '9-1711msg1.txt', '9-320msg1.txt', 'spmsgb7.txt', '9-1744msg2.txt', 'spmsgb77.txt', '9-330msg1.txt', 'spmsgb95.txt', '6-255msg4.txt', '9-2msg1.txt', '9-317msg1.txt', '9-248msg1.txt', '6-50msg3.txt', '6-781msg5.txt', '9-176msg1.txt', 'spmsgb89.txt', '6-771msg3.txt', '9-271msg2.txt', 'spmsgb67.txt', 'spmsgb86.txt', '6-453msg0.txt', '9-34msg2.txt', 'spmsgb58.txt', '6-755msg3.txt', '6-430msg5.txt', 'spmsgb85.txt', '9-1750msg1.txt', '6-453msg2.txt', '9-1774msg2.txt', '6-768msg1.txt', 'spmsgb8.txt', '6-380msg1.txt', '9-1785msg1.txt', 'spmsgb93.txt', '9-1781msg1.txt', '6-421msg1.txt', '9-1735msg1.txt', '9-217msg2.txt', '6-755msg2.txt', 'spmsgb60.txt', '9-1746msg1.txt', '6-382msg1.txt', '9-236msg1.txt', '9-1730msg1.txt', '6-761msg1.txt', 'spmsgb90.txt', '9-217msg1.txt', 'spmsgb75.txt', '9-196msg2.txt', 'spmsgb71.txt', '9-210msg1.txt', '9-1809msg1.txt', 'spmsgb82.txt', '9-1768msg1.txt', '9-237msg1.txt', '9-326msg2.txt', '9-208msg1.txt', '9-1717msg2.txt', '9-271msg1.txt', '9-365msg1.txt', '6-474msg2.txt', '9-1796msg2.txt', '9-1732msg1.txt', '6-255msg1.txt', 'spmsgb66.txt', '9-34msg1.txt', '6-338msg1.txt', '9-237msg2.txt', 'spmsgb97.txt', '9-1781msg2.txt', '6-474msg1.txt', '6-474msg3.txt', '6-771msg2.txt', '9-210msg2.txt', '9-365msg2.txt', '9-1791msg2.txt', '9-28msg2.txt', '9-195msg2.txt', '6-425msg2.txt', '6-798msg1.txt', '6-50msg0.txt', '9-268msg1.txt', 'spmsgb63.txt', '9-216msg2.txt', '6-430msg4.txt', 'spmsgb65.txt', 'spmsgc10.txt', '9-1715msg2.txt', '9-18msg1.txt', '6-281msg1.txt', '9-288msg2.txt', '9-303msg1.txt', '6-248msg3.txt', '9-174msg1.txt', '6-425msg3.txt', 'spmsgb92.txt', 'spmsgb94.txt', 'spmsgb87.txt', '9-18msg2.txt', '9-311msg1.txt', '9-44msg1.txt', '9-1714msg1.txt', '6-783msg1.txt', '9-326msg1.txt', '9-250msg2.txt', '6-476msg1.txt', '9-332msg2.txt', '9-311msg2.txt', '9-354msg2.txt', '6-455msg1.txt', '9-1769msg1.txt', 'spmsgb88.txt', '9-1711msg2.txt', '9-288msg1.txt', '9-246msg1.txt', '9-1796msg1.txt', 'spmsgb74.txt', '9-28msg1.txt', '9-1773msg2.txt', '9-296msg1.txt', '9-186msg1.txt', '6-473msg1.txt', '9-330msg2.txt', '6-771msg1.txt', '9-184msg1.txt', '9-364msg2.txt', '9-270msg1.txt', '9-250msg1.txt', '9-297msg1.txt', '6-381msg4.txt', '9-278msg2.txt', '9-196msg1.txt', '9-1703msg1.txt', '9-319msg2.txt', '9-336msg1.txt', '6-251msg1.txt', '6-50msg2.txt', '6-292msg1.txt', '9-36msg1.txt', '9-1715msg1.txt', '6-255msg3.txt', 'spmsgb78.txt', '6-392msg1.txt', '6-381msg3.txt', '9-35msg1.txt', '6-791msg1.txt', '9-1748msg1.txt', '9-352msg2.txt', '9-354msg1.txt', '9-1738msg2.txt', '9-1767msg1.txt', '9-209msg1.txt', '9-1816msg1.txt', '9-1731msg1.txt', '6-249msg1.txt', '9-35msg2.txt', '6-773msg1.txt', '9-1784msg1.txt', '9-301msg2.txt', '9-306msg1.txt', '9-211msg1.txt', '9-1716msg1.txt', '9-251msg1.txt', '6-476msg2.txt', 'spmsgb72.txt', 'spmsgb69.txt', '9-334msg1.txt', 'spmsgb83.txt', '6-758msg1.txt', '9-1817msg1.txt', '6-60msg1.txt', 'spmsgb62.txt', '6-781msg1.txt', '6-754msg1.txt', '6-773msg3.txt', '9-222msg2.txt', '9-1798msg2.txt', '9-1738msg1.txt', '9-1797msg1.txt']\n"
          ]
        }
      ]
    },
    {
      "cell_type": "code",
      "source": [
        "test_data_path = 'lingspam_public/lemm_stop/part10'\n",
        "test_emails = []\n",
        "test_labels = []\n",
        "for filename in os.listdir(test_data_path):\n",
        "    file_path = os.path.join(test_data_path, filename)\n",
        "    with open(file_path, 'r') as file:\n",
        "        text = clean_data(file.read())\n",
        "        test_emails.append(text)\n",
        "        test_labels.append(1 if 'sp' in filename else 0)"
      ],
      "metadata": {
        "id": "7-zkx_Fc312T"
      },
      "execution_count": 232,
      "outputs": []
    },
    {
      "cell_type": "code",
      "source": [
        "total_spam = labels.count(1)\n",
        "total_ham = labels.count(0)"
      ],
      "metadata": {
        "id": "gsg-YXNpapL5"
      },
      "execution_count": 233,
      "outputs": []
    },
    {
      "cell_type": "code",
      "source": [
        "print(f\"There are {total_spam} spam emails and {total_ham} ham emails in part1 to part9\")"
      ],
      "metadata": {
        "colab": {
          "base_uri": "https://localhost:8080/"
        },
        "id": "v0K_kNwsTmPh",
        "outputId": "6711bf1b-d80a-4b4c-8145-95cc96cbf3e7"
      },
      "execution_count": 234,
      "outputs": [
        {
          "output_type": "stream",
          "name": "stdout",
          "text": [
            "There are 432 spam emails and 2170 ham emails in part1 to part9\n"
          ]
        }
      ]
    },
    {
      "cell_type": "code",
      "source": [
        "all_words_len = len(set(all_words.split(\" \")))"
      ],
      "metadata": {
        "id": "B-i4bLlLkGwU"
      },
      "execution_count": 235,
      "outputs": []
    },
    {
      "cell_type": "code",
      "source": [
        "print(f\"There are total {all_words_len} words in all emails\")"
      ],
      "metadata": {
        "colab": {
          "base_uri": "https://localhost:8080/"
        },
        "id": "ub-AnjFzd1xM",
        "outputId": "c37d4f18-7823-4b7f-8303-9054f4e7dd75"
      },
      "execution_count": 28,
      "outputs": [
        {
          "output_type": "stream",
          "name": "stdout",
          "text": [
            "There are total 50412 words in all emails\n"
          ]
        }
      ]
    },
    {
      "cell_type": "code",
      "source": [
        "p = total_ham/(total_spam + total_ham)\n",
        "HC = -p*np.log(p) - (1-p)*np.log(1-p)\n",
        "print('HC:', HC)"
      ],
      "metadata": {
        "colab": {
          "base_uri": "https://localhost:8080/"
        },
        "id": "TRtsOxq0eMTA",
        "outputId": "d0539142-dd1c-43d1-ae1c-70332a6ef3e6"
      },
      "execution_count": 236,
      "outputs": [
        {
          "output_type": "stream",
          "name": "stdout",
          "text": [
            "HC: 0.4495288323617157\n"
          ]
        }
      ]
    },
    {
      "cell_type": "code",
      "source": [
        "IG = {}\n",
        "\n",
        "word_counts = {'spam': {}, 'ham': {}}\n",
        "\n",
        "for idx, email in enumerate(emails):\n",
        "    label = 'spam' if labels[idx] == 1 else 'ham'\n",
        "    seen = set()\n",
        "    for word in email.split(\" \"):\n",
        "        if word not in word_counts[label]:\n",
        "            word_counts['spam'][word] = 0\n",
        "            word_counts['ham'][word] = 0\n",
        "        if word not in seen:\n",
        "          word_counts[label][word] += 1\n",
        "          seen.add(word)\n",
        "\n",
        "\n",
        "for word in all_words.split(\" \"):\n",
        "\n",
        "  spam_count = word_counts['spam'].get(word,0)\n",
        "  ham_count = word_counts['ham'].get(word,0)\n",
        "\n",
        "  n_with_word = spam_count + ham_count    # number of emails with term\n",
        "  n_without_word = len(emails) - n_with_word        # number of emails without term\n",
        "\n",
        "  # use smoothing for terms never occur\n",
        "  if n_with_word == 0:\n",
        "    spam_count += 1\n",
        "    ham_count += 1\n",
        "    n_with_word = spam_count + ham_count\n",
        "    n_without_word = len(emails) - n_with_word\n",
        "\n",
        "  if n_without_word == 0:   # all the email contain this term\n",
        "    continue\n",
        "\n",
        "  H_term = (-1) * (((total_spam-spam_count)/len(emails)) * (np.log((total_spam-spam_count)/n_without_word))\n",
        "                   + (spam_count/len(emails)) * (np.log(spam_count/n_with_word))\n",
        "                   + ((total_ham-ham_count)/len(emails)) * (np.log((total_ham-ham_count)/n_without_word))\n",
        "                   + (ham_count/len(emails)) * (np.log(ham_count/n_with_word)))    # entropy(uncertainty) after this term\n",
        "\n",
        "  ig = HC - H_term             # information gain\n",
        "  IG[word] = [spam_count, ham_count, ig]"
      ],
      "metadata": {
        "id": "N5r-8WLDeku4"
      },
      "execution_count": null,
      "outputs": []
    },
    {
      "cell_type": "code",
      "source": [
        "# Create a DataFrame from the IG dictionary\n",
        "data_frame = pd.DataFrame(list(IG.items()), columns=['Word', 'Values'])\n",
        "data_frame[['Num spam with word', 'Num ham with word', 'IG']] = pd.DataFrame(data_frame['Values'].tolist(), index=data_frame.index)\n",
        "data_frame.drop(columns=['Values'], inplace=True)\n",
        "\n",
        "# Sort the DataFrame based on IG values in descending order\n",
        "sorted_frame = data_frame.sort_values(by='IG', ascending=False)\n",
        "\n",
        "df = sorted_frame.set_index('Word')\n",
        "df[0:10]"
      ],
      "metadata": {
        "colab": {
          "base_uri": "https://localhost:8080/",
          "height": 394
        },
        "id": "-U3fveQLhnq9",
        "outputId": "34250ff5-f135-40fc-cff1-3b88da6b09f5"
      },
      "execution_count": 238,
      "outputs": [
        {
          "output_type": "execute_result",
          "data": {
            "text/plain": [
              "            Num spam with word  Num ham with word        IG\n",
              "Word                                                       \n",
              "language                     7               1447  0.141710\n",
              "remove                     185                 22  0.117082\n",
              "free                       251                129  0.114876\n",
              "university                  17               1276  0.100511\n",
              "money                      169                 58  0.082261\n",
              "click                      116                 13  0.070129\n",
              "market                     132                 41  0.064122\n",
              "business                   143                 67  0.060185\n",
              "today                      144                 80  0.056067\n",
              "advertise                   92                 10  0.054907"
            ],
            "text/html": [
              "\n",
              "  <div id=\"df-2e0497c2-d81b-48e4-97f1-909425b0b73d\" class=\"colab-df-container\">\n",
              "    <div>\n",
              "<style scoped>\n",
              "    .dataframe tbody tr th:only-of-type {\n",
              "        vertical-align: middle;\n",
              "    }\n",
              "\n",
              "    .dataframe tbody tr th {\n",
              "        vertical-align: top;\n",
              "    }\n",
              "\n",
              "    .dataframe thead th {\n",
              "        text-align: right;\n",
              "    }\n",
              "</style>\n",
              "<table border=\"1\" class=\"dataframe\">\n",
              "  <thead>\n",
              "    <tr style=\"text-align: right;\">\n",
              "      <th></th>\n",
              "      <th>Num spam with word</th>\n",
              "      <th>Num ham with word</th>\n",
              "      <th>IG</th>\n",
              "    </tr>\n",
              "    <tr>\n",
              "      <th>Word</th>\n",
              "      <th></th>\n",
              "      <th></th>\n",
              "      <th></th>\n",
              "    </tr>\n",
              "  </thead>\n",
              "  <tbody>\n",
              "    <tr>\n",
              "      <th>language</th>\n",
              "      <td>7</td>\n",
              "      <td>1447</td>\n",
              "      <td>0.141710</td>\n",
              "    </tr>\n",
              "    <tr>\n",
              "      <th>remove</th>\n",
              "      <td>185</td>\n",
              "      <td>22</td>\n",
              "      <td>0.117082</td>\n",
              "    </tr>\n",
              "    <tr>\n",
              "      <th>free</th>\n",
              "      <td>251</td>\n",
              "      <td>129</td>\n",
              "      <td>0.114876</td>\n",
              "    </tr>\n",
              "    <tr>\n",
              "      <th>university</th>\n",
              "      <td>17</td>\n",
              "      <td>1276</td>\n",
              "      <td>0.100511</td>\n",
              "    </tr>\n",
              "    <tr>\n",
              "      <th>money</th>\n",
              "      <td>169</td>\n",
              "      <td>58</td>\n",
              "      <td>0.082261</td>\n",
              "    </tr>\n",
              "    <tr>\n",
              "      <th>click</th>\n",
              "      <td>116</td>\n",
              "      <td>13</td>\n",
              "      <td>0.070129</td>\n",
              "    </tr>\n",
              "    <tr>\n",
              "      <th>market</th>\n",
              "      <td>132</td>\n",
              "      <td>41</td>\n",
              "      <td>0.064122</td>\n",
              "    </tr>\n",
              "    <tr>\n",
              "      <th>business</th>\n",
              "      <td>143</td>\n",
              "      <td>67</td>\n",
              "      <td>0.060185</td>\n",
              "    </tr>\n",
              "    <tr>\n",
              "      <th>today</th>\n",
              "      <td>144</td>\n",
              "      <td>80</td>\n",
              "      <td>0.056067</td>\n",
              "    </tr>\n",
              "    <tr>\n",
              "      <th>advertise</th>\n",
              "      <td>92</td>\n",
              "      <td>10</td>\n",
              "      <td>0.054907</td>\n",
              "    </tr>\n",
              "  </tbody>\n",
              "</table>\n",
              "</div>\n",
              "    <div class=\"colab-df-buttons\">\n",
              "\n",
              "  <div class=\"colab-df-container\">\n",
              "    <button class=\"colab-df-convert\" onclick=\"convertToInteractive('df-2e0497c2-d81b-48e4-97f1-909425b0b73d')\"\n",
              "            title=\"Convert this dataframe to an interactive table.\"\n",
              "            style=\"display:none;\">\n",
              "\n",
              "  <svg xmlns=\"http://www.w3.org/2000/svg\" height=\"24px\" viewBox=\"0 -960 960 960\">\n",
              "    <path d=\"M120-120v-720h720v720H120Zm60-500h600v-160H180v160Zm220 220h160v-160H400v160Zm0 220h160v-160H400v160ZM180-400h160v-160H180v160Zm440 0h160v-160H620v160ZM180-180h160v-160H180v160Zm440 0h160v-160H620v160Z\"/>\n",
              "  </svg>\n",
              "    </button>\n",
              "\n",
              "  <style>\n",
              "    .colab-df-container {\n",
              "      display:flex;\n",
              "      gap: 12px;\n",
              "    }\n",
              "\n",
              "    .colab-df-convert {\n",
              "      background-color: #E8F0FE;\n",
              "      border: none;\n",
              "      border-radius: 50%;\n",
              "      cursor: pointer;\n",
              "      display: none;\n",
              "      fill: #1967D2;\n",
              "      height: 32px;\n",
              "      padding: 0 0 0 0;\n",
              "      width: 32px;\n",
              "    }\n",
              "\n",
              "    .colab-df-convert:hover {\n",
              "      background-color: #E2EBFA;\n",
              "      box-shadow: 0px 1px 2px rgba(60, 64, 67, 0.3), 0px 1px 3px 1px rgba(60, 64, 67, 0.15);\n",
              "      fill: #174EA6;\n",
              "    }\n",
              "\n",
              "    .colab-df-buttons div {\n",
              "      margin-bottom: 4px;\n",
              "    }\n",
              "\n",
              "    [theme=dark] .colab-df-convert {\n",
              "      background-color: #3B4455;\n",
              "      fill: #D2E3FC;\n",
              "    }\n",
              "\n",
              "    [theme=dark] .colab-df-convert:hover {\n",
              "      background-color: #434B5C;\n",
              "      box-shadow: 0px 1px 3px 1px rgba(0, 0, 0, 0.15);\n",
              "      filter: drop-shadow(0px 1px 2px rgba(0, 0, 0, 0.3));\n",
              "      fill: #FFFFFF;\n",
              "    }\n",
              "  </style>\n",
              "\n",
              "    <script>\n",
              "      const buttonEl =\n",
              "        document.querySelector('#df-2e0497c2-d81b-48e4-97f1-909425b0b73d button.colab-df-convert');\n",
              "      buttonEl.style.display =\n",
              "        google.colab.kernel.accessAllowed ? 'block' : 'none';\n",
              "\n",
              "      async function convertToInteractive(key) {\n",
              "        const element = document.querySelector('#df-2e0497c2-d81b-48e4-97f1-909425b0b73d');\n",
              "        const dataTable =\n",
              "          await google.colab.kernel.invokeFunction('convertToInteractive',\n",
              "                                                    [key], {});\n",
              "        if (!dataTable) return;\n",
              "\n",
              "        const docLinkHtml = 'Like what you see? Visit the ' +\n",
              "          '<a target=\"_blank\" href=https://colab.research.google.com/notebooks/data_table.ipynb>data table notebook</a>'\n",
              "          + ' to learn more about interactive tables.';\n",
              "        element.innerHTML = '';\n",
              "        dataTable['output_type'] = 'display_data';\n",
              "        await google.colab.output.renderOutput(dataTable, element);\n",
              "        const docLink = document.createElement('div');\n",
              "        docLink.innerHTML = docLinkHtml;\n",
              "        element.appendChild(docLink);\n",
              "      }\n",
              "    </script>\n",
              "  </div>\n",
              "\n",
              "\n",
              "<div id=\"df-be82838d-0653-4b25-a833-0aa1207997e6\">\n",
              "  <button class=\"colab-df-quickchart\" onclick=\"quickchart('df-be82838d-0653-4b25-a833-0aa1207997e6')\"\n",
              "            title=\"Suggest charts.\"\n",
              "            style=\"display:none;\">\n",
              "\n",
              "<svg xmlns=\"http://www.w3.org/2000/svg\" height=\"24px\"viewBox=\"0 0 24 24\"\n",
              "     width=\"24px\">\n",
              "    <g>\n",
              "        <path d=\"M19 3H5c-1.1 0-2 .9-2 2v14c0 1.1.9 2 2 2h14c1.1 0 2-.9 2-2V5c0-1.1-.9-2-2-2zM9 17H7v-7h2v7zm4 0h-2V7h2v10zm4 0h-2v-4h2v4z\"/>\n",
              "    </g>\n",
              "</svg>\n",
              "  </button>\n",
              "\n",
              "<style>\n",
              "  .colab-df-quickchart {\n",
              "      --bg-color: #E8F0FE;\n",
              "      --fill-color: #1967D2;\n",
              "      --hover-bg-color: #E2EBFA;\n",
              "      --hover-fill-color: #174EA6;\n",
              "      --disabled-fill-color: #AAA;\n",
              "      --disabled-bg-color: #DDD;\n",
              "  }\n",
              "\n",
              "  [theme=dark] .colab-df-quickchart {\n",
              "      --bg-color: #3B4455;\n",
              "      --fill-color: #D2E3FC;\n",
              "      --hover-bg-color: #434B5C;\n",
              "      --hover-fill-color: #FFFFFF;\n",
              "      --disabled-bg-color: #3B4455;\n",
              "      --disabled-fill-color: #666;\n",
              "  }\n",
              "\n",
              "  .colab-df-quickchart {\n",
              "    background-color: var(--bg-color);\n",
              "    border: none;\n",
              "    border-radius: 50%;\n",
              "    cursor: pointer;\n",
              "    display: none;\n",
              "    fill: var(--fill-color);\n",
              "    height: 32px;\n",
              "    padding: 0;\n",
              "    width: 32px;\n",
              "  }\n",
              "\n",
              "  .colab-df-quickchart:hover {\n",
              "    background-color: var(--hover-bg-color);\n",
              "    box-shadow: 0 1px 2px rgba(60, 64, 67, 0.3), 0 1px 3px 1px rgba(60, 64, 67, 0.15);\n",
              "    fill: var(--button-hover-fill-color);\n",
              "  }\n",
              "\n",
              "  .colab-df-quickchart-complete:disabled,\n",
              "  .colab-df-quickchart-complete:disabled:hover {\n",
              "    background-color: var(--disabled-bg-color);\n",
              "    fill: var(--disabled-fill-color);\n",
              "    box-shadow: none;\n",
              "  }\n",
              "\n",
              "  .colab-df-spinner {\n",
              "    border: 2px solid var(--fill-color);\n",
              "    border-color: transparent;\n",
              "    border-bottom-color: var(--fill-color);\n",
              "    animation:\n",
              "      spin 1s steps(1) infinite;\n",
              "  }\n",
              "\n",
              "  @keyframes spin {\n",
              "    0% {\n",
              "      border-color: transparent;\n",
              "      border-bottom-color: var(--fill-color);\n",
              "      border-left-color: var(--fill-color);\n",
              "    }\n",
              "    20% {\n",
              "      border-color: transparent;\n",
              "      border-left-color: var(--fill-color);\n",
              "      border-top-color: var(--fill-color);\n",
              "    }\n",
              "    30% {\n",
              "      border-color: transparent;\n",
              "      border-left-color: var(--fill-color);\n",
              "      border-top-color: var(--fill-color);\n",
              "      border-right-color: var(--fill-color);\n",
              "    }\n",
              "    40% {\n",
              "      border-color: transparent;\n",
              "      border-right-color: var(--fill-color);\n",
              "      border-top-color: var(--fill-color);\n",
              "    }\n",
              "    60% {\n",
              "      border-color: transparent;\n",
              "      border-right-color: var(--fill-color);\n",
              "    }\n",
              "    80% {\n",
              "      border-color: transparent;\n",
              "      border-right-color: var(--fill-color);\n",
              "      border-bottom-color: var(--fill-color);\n",
              "    }\n",
              "    90% {\n",
              "      border-color: transparent;\n",
              "      border-bottom-color: var(--fill-color);\n",
              "    }\n",
              "  }\n",
              "</style>\n",
              "\n",
              "  <script>\n",
              "    async function quickchart(key) {\n",
              "      const quickchartButtonEl =\n",
              "        document.querySelector('#' + key + ' button');\n",
              "      quickchartButtonEl.disabled = true;  // To prevent multiple clicks.\n",
              "      quickchartButtonEl.classList.add('colab-df-spinner');\n",
              "      try {\n",
              "        const charts = await google.colab.kernel.invokeFunction(\n",
              "            'suggestCharts', [key], {});\n",
              "      } catch (error) {\n",
              "        console.error('Error during call to suggestCharts:', error);\n",
              "      }\n",
              "      quickchartButtonEl.classList.remove('colab-df-spinner');\n",
              "      quickchartButtonEl.classList.add('colab-df-quickchart-complete');\n",
              "    }\n",
              "    (() => {\n",
              "      let quickchartButtonEl =\n",
              "        document.querySelector('#df-be82838d-0653-4b25-a833-0aa1207997e6 button');\n",
              "      quickchartButtonEl.style.display =\n",
              "        google.colab.kernel.accessAllowed ? 'block' : 'none';\n",
              "    })();\n",
              "  </script>\n",
              "</div>\n",
              "    </div>\n",
              "  </div>\n"
            ]
          },
          "metadata": {},
          "execution_count": 238
        }
      ]
    },
    {
      "cell_type": "code",
      "source": [
        "df_1 = df.iloc[0:10]\n",
        "df_2 = df.iloc[0:100]\n",
        "df_3 = df.iloc[0:1000]"
      ],
      "metadata": {
        "id": "FrNjlmJakRVM"
      },
      "execution_count": 239,
      "outputs": []
    },
    {
      "cell_type": "markdown",
      "source": [
        "## Bernoulli NB classifier with binary features"
      ],
      "metadata": {
        "id": "VhCw0TL9yDW8"
      }
    },
    {
      "cell_type": "code",
      "source": [
        "def bernoulli_nb(words, df, spam_count, ham_count):\n",
        "\n",
        "    p_spam = (spam_count) / (spam_count + ham_count)\n",
        "    p_ham = (ham_count) / (spam_count + ham_count)\n",
        "    p_words_in_spam, p_words_in_ham = 1, 1\n",
        "\n",
        "    all_words_set = set(words.split(\" \"))\n",
        "    for idx, row in df.iterrows():\n",
        "      word, spam, ham = idx, row['Num spam with word'], row['Num ham with word']\n",
        "      p_word_given_spam = (spam+1)/(spam_count+2)\n",
        "      p_word_given_ham = (ham+1)/(ham_count+2)\n",
        "\n",
        "      if word in all_words_set:\n",
        "        p_words_in_spam*=p_word_given_spam\n",
        "        p_words_in_ham*=p_word_given_ham\n",
        "      else:\n",
        "        p_words_in_spam *= (1-p_word_given_spam)\n",
        "        p_words_in_ham *= (1-p_word_given_ham)\n",
        "\n",
        "    p_s_given_words = p_spam * p_words_in_spam\n",
        "    p_h_given_words = p_ham * p_words_in_ham\n",
        "\n",
        "    return p_s_given_words > p_h_given_words"
      ],
      "metadata": {
        "id": "Jxqf9HyAsZyx"
      },
      "execution_count": 249,
      "outputs": []
    },
    {
      "cell_type": "markdown",
      "source": [
        "## Multinomial NB with binary features"
      ],
      "metadata": {
        "id": "XvKCTlAi2Q9N"
      }
    },
    {
      "cell_type": "code",
      "source": [
        "def multinomial_nb(words, df, spam_count, ham_count):\n",
        "  p_spam = (spam_count) / (spam_count + ham_count)\n",
        "  p_ham = (ham_count) / (spam_count + ham_count)\n",
        "  p_words_in_spam, p_words_in_ham = 1, 1\n",
        "  all_words_set = set(words.split(\" \"))\n",
        "\n",
        "  spam_words = total_words_in_spam.split(\" \")\n",
        "  ham_words = total_words_in_ham.split(\" \")\n",
        "  corpus = set(all_words.split(\" \"))\n",
        "\n",
        "  for idx, row in df.iterrows():\n",
        "    word, spam, ham = idx, row['Num spam with word'], row['Num ham with word']\n",
        "\n",
        "    p_word_given_spam = (spam+1)/(spam_count + len(corpus))\n",
        "    p_word_given_ham = (ham+1)/(ham_count + len(corpus))\n",
        "\n",
        "    if word in all_words_set:\n",
        "        p_words_in_spam*=p_word_given_spam\n",
        "        p_words_in_ham*=p_word_given_ham\n",
        "\n",
        "  p_s_given_words = p_spam * p_words_in_spam\n",
        "  p_h_given_words = p_ham * p_words_in_ham\n",
        "\n",
        "  return p_s_given_words > p_h_given_words"
      ],
      "metadata": {
        "id": "B3XXARusDLgv"
      },
      "execution_count": 247,
      "outputs": []
    },
    {
      "cell_type": "markdown",
      "source": [
        "## Multinomial NB with term frequency (TF) features"
      ],
      "metadata": {
        "id": "mjzZFAwoDJki"
      }
    },
    {
      "cell_type": "code",
      "source": [
        "def multinomial_nb_with_tf(words, df, spam_count, ham_count):\n",
        "\n",
        "  spam_words = total_words_in_spam.split(\" \")\n",
        "  ham_words = total_words_in_ham.split(\" \")\n",
        "  corpus = set(all_words.split(\" \"))\n",
        "  spam_dict = Counter(spam_words)\n",
        "  ham_dict = Counter(ham_words)\n",
        "\n",
        "  p_spam = (spam_count) / (spam_count + ham_count)\n",
        "  p_ham = (ham_count) / (spam_count + ham_count)\n",
        "  p_words_in_spam, p_words_in_ham = 1, 1\n",
        "\n",
        "  word_counts = Counter(words.split(\" \"))\n",
        "\n",
        "  top_words = list(df.index)\n",
        "\n",
        "  for word, count in word_counts.items():\n",
        "        if word not in top_words:\n",
        "            continue\n",
        "\n",
        "        count_s = spam_dict.get(word, 0)\n",
        "        count_h = ham_dict.get(word, 0)\n",
        "\n",
        "        p_word_given_spam = (count_s + 1) / (len(spam_words) + 2)\n",
        "        p_word_given_ham = (count_h + 1) / (len(ham_words) + 2)\n",
        "\n",
        "        p_words_in_spam *= (p_word_given_spam**count)\n",
        "        p_words_in_ham *= (p_word_given_ham**count)\n",
        "\n",
        "  p_s_given_words = p_spam * p_words_in_spam\n",
        "  p_h_given_words = p_ham * p_words_in_ham\n",
        "\n",
        "  return p_s_given_words > p_h_given_words"
      ],
      "metadata": {
        "id": "S3Q6oHm42TLZ"
      },
      "execution_count": 251,
      "outputs": []
    },
    {
      "cell_type": "markdown",
      "source": [
        "## Testing Naive Bayes Classifiers"
      ],
      "metadata": {
        "id": "w72awbmsboYZ"
      }
    },
    {
      "cell_type": "markdown",
      "source": [
        "### N = 10"
      ],
      "metadata": {
        "id": "TfiToqEvcvUF"
      }
    },
    {
      "cell_type": "code",
      "source": [
        "preds_bernoulli = []\n",
        "preds_multinomial_nb = []\n",
        "preds_multinomial_nb_tf = []\n",
        "for email in test_emails:\n",
        "  preds_bernoulli.append(bernoulli_nb(email, df_1, total_spam, total_ham))\n",
        "  preds_multinomial_nb.append(multinomial_nb(email, df_1, total_spam, total_ham))\n",
        "  preds_multinomial_nb_tf.append(multinomial_nb_with_tf(email, df_1, total_spam, total_ham))\n",
        "\n",
        "print(f\"Bernoulli Naive Bayes Classifier: recall_score={recall_score(test_labels,preds_bernoulli)} and preceision_score={precision_score(test_labels,preds_bernoulli)}\")\n",
        "print(f\"Multionomial Naive Bayes Classifier with binary features: recall_score={recall_score(test_labels,preds_multinomial_nb)} and preceision_score={precision_score(test_labels,preds_multinomial_nb)}\")\n",
        "print(f\"Multinomial Naive Bayes Classifier with term frequency features: recall_score={recall_score(test_labels,preds_multinomial_nb_tf)} and preceision_score={precision_score(test_labels,preds_multinomial_nb_tf)}\")"
      ],
      "metadata": {
        "colab": {
          "base_uri": "https://localhost:8080/"
        },
        "id": "GL8N2etp1pSF",
        "outputId": "6c729c3e-629a-43ef-df09-b5c9a8777129"
      },
      "execution_count": 252,
      "outputs": [
        {
          "output_type": "stream",
          "name": "stdout",
          "text": [
            "Bernoulli Naive Bayes Classifier: recall_score=0.6326530612244898 and preceision_score=0.8857142857142857\n",
            "Multionomial Naive Bayes Classifier with binary features: recall_score=0.5714285714285714 and preceision_score=0.875\n",
            "Bernoulli Naive Bayes Classifier with term frequency features: recall_score=0.8163265306122449 and preceision_score=0.851063829787234\n"
          ]
        }
      ]
    },
    {
      "cell_type": "markdown",
      "source": [
        "### N=100"
      ],
      "metadata": {
        "id": "B7hepw_XfO1T"
      }
    },
    {
      "cell_type": "code",
      "source": [
        "preds_bernoulli = []\n",
        "preds_multinomial_nb = []\n",
        "preds_multinomial_nb_tf = []\n",
        "for email in test_emails:\n",
        "  preds_bernoulli.append(bernoulli_nb(email, df_2, total_spam, total_ham))\n",
        "  preds_multinomial_nb.append(multinomial_nb(email, df_2, total_spam, total_ham))\n",
        "  preds_multinomial_nb_tf.append(multinomial_nb_with_tf(email, df_2, total_spam, total_ham))\n",
        "\n",
        "print(f\"Bernoulli Naive Bayes Classifier: recall_score={recall_score(test_labels,preds_bernoulli)} and preceision_score={precision_score(test_labels,preds_bernoulli)}\")\n",
        "print(f\"Multionomial Naive Bayes Classifier with binary features: recall_score={recall_score(test_labels,preds_multinomial_nb)} and preceision_score={precision_score(test_labels,preds_multinomial_nb)}\")\n",
        "print(f\"Multinomial Naive Bayes Classifier with term frequency features: recall_score={recall_score(test_labels,preds_multinomial_nb_tf)} and preceision_score={precision_score(test_labels,preds_multinomial_nb_tf)}\")"
      ],
      "metadata": {
        "colab": {
          "base_uri": "https://localhost:8080/"
        },
        "id": "YyF2tGcgfMIe",
        "outputId": "c7fa1591-f632-48b5-ecbd-9efd27ae3aee"
      },
      "execution_count": 253,
      "outputs": [
        {
          "output_type": "stream",
          "name": "stdout",
          "text": [
            "Bernoulli Naive Bayes Classifier: recall_score=0.673469387755102 and preceision_score=0.9705882352941176\n",
            "Multionomial Naive Bayes Classifier with binary features: recall_score=0.8163265306122449 and preceision_score=0.975609756097561\n",
            "Bernoulli Naive Bayes Classifier with term frequency features: recall_score=0.9795918367346939 and preceision_score=0.8\n"
          ]
        }
      ]
    },
    {
      "cell_type": "markdown",
      "source": [
        "### N = 1000"
      ],
      "metadata": {
        "id": "LrjtlgXsImBp"
      }
    },
    {
      "cell_type": "code",
      "source": [
        "preds_bernoulli = []\n",
        "preds_multinomial_nb = []\n",
        "preds_multinomial_nb_tf = []\n",
        "for email in test_emails:\n",
        "  preds_bernoulli.append(bernoulli_nb(email, df_3, total_spam, total_ham))\n",
        "  preds_multinomial_nb.append(multinomial_nb(email, df_3, total_spam, total_ham))\n",
        "  preds_multinomial_nb_tf.append(multinomial_nb_with_tf(email, df_3, total_spam, total_ham))\n",
        "\n",
        "print(f\"Bernoulli Naive Bayes Classifier: recall_score={recall_score(test_labels,preds_bernoulli)} and preceision_score={precision_score(test_labels,preds_bernoulli)}\")\n",
        "print(f\"Multionomial Naive Bayes Classifier with binary features: recall_score={recall_score(test_labels,preds_multinomial_nb)} and preceision_score={precision_score(test_labels,preds_multinomial_nb)}\")\n",
        "print(f\"Multinomial Naive Bayes Classifier with term frequency features: recall_score={recall_score(test_labels,preds_multinomial_nb_tf)} and preceision_score={precision_score(test_labels,preds_multinomial_nb_tf)}\")"
      ],
      "metadata": {
        "colab": {
          "base_uri": "https://localhost:8080/"
        },
        "id": "4AY5Q99ofFXZ",
        "outputId": "46fea178-b460-43c5-8c23-144ece54c11d"
      },
      "execution_count": 254,
      "outputs": [
        {
          "output_type": "stream",
          "name": "stdout",
          "text": [
            "Bernoulli Naive Bayes Classifier: recall_score=0.5510204081632653 and preceision_score=1.0\n",
            "Multionomial Naive Bayes Classifier with binary features: recall_score=0.2857142857142857 and preceision_score=1.0\n",
            "Bernoulli Naive Bayes Classifier with term frequency features: recall_score=0.673469387755102 and preceision_score=0.9705882352941176\n"
          ]
        }
      ]
    },
    {
      "cell_type": "markdown",
      "source": [
        "## SVM Classifier\n",
        "### Using Binary Features"
      ],
      "metadata": {
        "id": "nzewIylKfhpS"
      }
    },
    {
      "cell_type": "code",
      "source": [
        "def load_data_from_path(base_path, features):\n",
        "    data = {}\n",
        "    for file in os.listdir(base_path):\n",
        "        with open(os.path.join(base_path, file), 'r') as f:\n",
        "            text = clean_data(f.read())\n",
        "        unique_words = set(text.split(\" \"))\n",
        "        feature_values = [1 if feature in unique_words else 0 for feature in features]\n",
        "        class_label = 1 if file.startswith('sp') else 0\n",
        "        feature_values.append(class_label)\n",
        "        data[file] = feature_values\n",
        "    return data\n",
        "\n",
        "def get_data(df):\n",
        "    features = list(df.index)\n",
        "    base_path = 'lingspam_public/lemm_stop/'\n",
        "    train_data = {}\n",
        "    for i in range(1, 10):\n",
        "        train_data.update(load_data_from_path(os.path.join(base_path, f'part{i}'), features))\n",
        "    return train_data\n",
        "\n",
        "def get_test(features):\n",
        "    return load_data_from_path('lingspam_public/lemm_stop/part10', features[:-1])"
      ],
      "metadata": {
        "id": "up2qW1hanVda"
      },
      "execution_count": 281,
      "outputs": []
    },
    {
      "cell_type": "markdown",
      "source": [
        "### N = 10"
      ],
      "metadata": {
        "id": "UoHBHnNQnkmN"
      }
    },
    {
      "cell_type": "code",
      "source": [
        "features = list(df_1.index) + ['class']\n",
        "\n",
        "train_data_dict = get_data(df_1)\n",
        "train_data_df = pd.DataFrame.from_dict(train_data_dict, orient='index', columns=features)\n",
        "\n",
        "test_data_dict = get_test(features)\n",
        "test_data_df = pd.DataFrame.from_dict(test_data_dict, orient='index', columns=features)\n",
        "\n",
        "X_train = train_data_df.drop('class', axis=1)\n",
        "y_train = train_data_df['class']\n",
        "\n",
        "X_test = test_data_df.drop('class', axis=1)\n",
        "y_test = test_data_df['class']\n",
        "\n",
        "# Model training and prediction\n",
        "model = SVC(kernel='linear')\n",
        "model.fit(X_train, y_train)\n",
        "\n",
        "y_pred = model.predict(X_test)\n",
        "\n",
        "precision = precision_score(y_test, y_pred)\n",
        "recall = recall_score(y_test, y_pred)\n",
        "print(f\"Precision: {precision} and Recall: {recall}\")"
      ],
      "metadata": {
        "colab": {
          "base_uri": "https://localhost:8080/"
        },
        "id": "zMaCoLUsndlB",
        "outputId": "2f1f2451-3b39-4d7a-95ed-17b069059903"
      },
      "execution_count": 282,
      "outputs": [
        {
          "output_type": "stream",
          "name": "stdout",
          "text": [
            "Precision: 0.8888888888888888 and Recall: 0.8163265306122449\n"
          ]
        }
      ]
    },
    {
      "cell_type": "markdown",
      "source": [
        "### N = 100"
      ],
      "metadata": {
        "id": "vw25QU2ynpn2"
      }
    },
    {
      "cell_type": "code",
      "source": [
        "features = list(df_2.index) + ['class']\n",
        "\n",
        "train_data_dict = get_data(df_2)\n",
        "train_data_df = pd.DataFrame.from_dict(train_data_dict, orient='index', columns=features)\n",
        "\n",
        "test_data_dict = get_test(features)\n",
        "test_data_df = pd.DataFrame.from_dict(test_data_dict, orient='index', columns=features)\n",
        "\n",
        "X_train = train_data_df.drop('class', axis=1)\n",
        "y_train = train_data_df['class']\n",
        "\n",
        "X_test = test_data_df.drop('class', axis=1)\n",
        "y_test = test_data_df['class']\n",
        "\n",
        "# Model training and prediction\n",
        "model = SVC(kernel='linear')\n",
        "model.fit(X_train, y_train)\n",
        "\n",
        "y_pred = model.predict(X_test)\n",
        "\n",
        "precision = precision_score(y_test, y_pred)\n",
        "recall = recall_score(y_test, y_pred)\n",
        "print(f\"Precision: {precision} and Recall: {recall}\")"
      ],
      "metadata": {
        "colab": {
          "base_uri": "https://localhost:8080/"
        },
        "id": "nDpQzV9Znnvw",
        "outputId": "d9d758cf-9419-49c2-87a8-5b610a72854f"
      },
      "execution_count": 283,
      "outputs": [
        {
          "output_type": "stream",
          "name": "stdout",
          "text": [
            "Precision: 0.9333333333333333 and Recall: 0.8571428571428571\n"
          ]
        }
      ]
    },
    {
      "cell_type": "markdown",
      "source": [
        "### N = 1000"
      ],
      "metadata": {
        "id": "RYRnjQ1in0Eg"
      }
    },
    {
      "cell_type": "code",
      "source": [
        "features = list(df_3.index) + ['class']\n",
        "\n",
        "train_data_dict = get_data(df_3)\n",
        "train_data_df = pd.DataFrame.from_dict(train_data_dict, orient='index', columns=features)\n",
        "\n",
        "test_data_dict = get_test(features)\n",
        "test_data_df = pd.DataFrame.from_dict(test_data_dict, orient='index', columns=features)\n",
        "\n",
        "X_train = train_data_df.drop('class', axis=1)\n",
        "y_train = train_data_df['class']\n",
        "\n",
        "X_test = test_data_df.drop('class', axis=1)\n",
        "y_test = test_data_df['class']\n",
        "\n",
        "# Model training and prediction\n",
        "model = SVC(kernel='linear')\n",
        "model.fit(X_train, y_train)\n",
        "\n",
        "y_pred = model.predict(X_test)\n",
        "\n",
        "precision = precision_score(y_test, y_pred)\n",
        "recall = recall_score(y_test, y_pred)\n",
        "print(f\"Precision: {precision} and Recall: {recall}\")"
      ],
      "metadata": {
        "colab": {
          "base_uri": "https://localhost:8080/"
        },
        "id": "4IA8qquYnzRp",
        "outputId": "0c11b291-dcfc-4757-d72e-b6ded79aed45"
      },
      "execution_count": 284,
      "outputs": [
        {
          "output_type": "stream",
          "name": "stdout",
          "text": [
            "Precision: 1.0 and Recall: 0.9183673469387755\n"
          ]
        }
      ]
    },
    {
      "cell_type": "markdown",
      "source": [
        "# Final Observations:\n",
        "\n",
        "## For N = 10 features:\n",
        "\n",
        "Bernoulli NB Classifier: recall_score=0.6326530612244898, preceision_score=0.8857142857142857\n",
        "\n",
        "Multionomial NB Classifier with binary features: recall = 0.5714285714285714, preceision = 0.875\n",
        "\n",
        "Multinomial NB Classifier with term frequency features: recall = 0.8163265306122449, preceision = 0.851063829787234\n",
        "\n",
        "SVM Classifier: recall = 0.8163265306122449, precision = 0.8888888888888888\n",
        "\n",
        "\n",
        "## For N = 100 features:\n",
        "Bernoulli Naive Bayes Classifier: recall_score=0.673469387755102 and preceision_score=0.9705882352941176\n",
        "\n",
        "Multionomial Naive Bayes Classifier with binary features: recall_score=0.8163265306122449 and preceision_score=0.975609756097561\n",
        "\n",
        "Multinomial Naive Bayes Classifier with term frequency features: recall_score=0.9795918367346939 and preceision_score=0.8\n",
        "\n",
        "SVM Classifier: recall = 0.8571428571428571, precision = 0.9333333333333333\n",
        "\n",
        "## For N = 1000 features:\n",
        "Bernoulli Naive Bayes Classifier: recall_score=0.5510204081632653 and preceision_score=1.0\n",
        "\n",
        "Multionomial Naive Bayes Classifier with binary features: recall_score=0.2857142857142857 and preceision_score=1.0\n",
        "\n",
        "Multinomial Naive Bayes Classifier with term frequency features: recall_score=0.673469387755102 and preceision_score=0.9705882352941176\n",
        "\n",
        "SVM Classifier: recall = 0.9183673469387755, precision = 1.0\n"
      ],
      "metadata": {
        "id": "dSiD1fbtoHYg"
      }
    },
    {
      "cell_type": "code",
      "source": [],
      "metadata": {
        "id": "XznIQX4Folv0"
      },
      "execution_count": null,
      "outputs": []
    }
  ]
}